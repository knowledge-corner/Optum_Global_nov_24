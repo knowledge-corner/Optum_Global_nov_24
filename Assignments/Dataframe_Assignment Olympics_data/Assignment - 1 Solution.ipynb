{
 "cells": [
  {
   "cell_type": "code",
   "execution_count": 1,
   "metadata": {},
   "outputs": [],
   "source": [
    "import numpy as np\n",
    "import pandas as pd\n",
    "import matplotlib.pyplot as plt"
   ]
  },
  {
   "cell_type": "markdown",
   "metadata": {},
   "source": [
    "##### Read data from olympics.csv"
   ]
  },
  {
   "cell_type": "code",
   "execution_count": 2,
   "metadata": {},
   "outputs": [],
   "source": [
    "olympics = pd.read_csv('olympics.csv', index_col=0, skiprows=1)"
   ]
  },
  {
   "cell_type": "code",
   "execution_count": 3,
   "metadata": {
    "scrolled": true
   },
   "outputs": [
    {
     "data": {
      "text/html": [
       "<div>\n",
       "<style scoped>\n",
       "    .dataframe tbody tr th:only-of-type {\n",
       "        vertical-align: middle;\n",
       "    }\n",
       "\n",
       "    .dataframe tbody tr th {\n",
       "        vertical-align: top;\n",
       "    }\n",
       "\n",
       "    .dataframe thead th {\n",
       "        text-align: right;\n",
       "    }\n",
       "</style>\n",
       "<table border=\"1\" class=\"dataframe\">\n",
       "  <thead>\n",
       "    <tr style=\"text-align: right;\">\n",
       "      <th></th>\n",
       "      <th>№ Summer</th>\n",
       "      <th>01 !</th>\n",
       "      <th>02 !</th>\n",
       "      <th>03 !</th>\n",
       "      <th>Total</th>\n",
       "      <th>№ Winter</th>\n",
       "      <th>01 !.1</th>\n",
       "      <th>02 !.1</th>\n",
       "      <th>03 !.1</th>\n",
       "      <th>Total.1</th>\n",
       "      <th>№ Games</th>\n",
       "      <th>01 !.2</th>\n",
       "      <th>02 !.2</th>\n",
       "      <th>03 !.2</th>\n",
       "      <th>Combined total</th>\n",
       "    </tr>\n",
       "  </thead>\n",
       "  <tbody>\n",
       "    <tr>\n",
       "      <th>Afghanistan (AFG)</th>\n",
       "      <td>13</td>\n",
       "      <td>0</td>\n",
       "      <td>0</td>\n",
       "      <td>2</td>\n",
       "      <td>2</td>\n",
       "      <td>0</td>\n",
       "      <td>0</td>\n",
       "      <td>0</td>\n",
       "      <td>0</td>\n",
       "      <td>0</td>\n",
       "      <td>13</td>\n",
       "      <td>0</td>\n",
       "      <td>0</td>\n",
       "      <td>2</td>\n",
       "      <td>2</td>\n",
       "    </tr>\n",
       "    <tr>\n",
       "      <th>Algeria (ALG)</th>\n",
       "      <td>12</td>\n",
       "      <td>5</td>\n",
       "      <td>2</td>\n",
       "      <td>8</td>\n",
       "      <td>15</td>\n",
       "      <td>3</td>\n",
       "      <td>0</td>\n",
       "      <td>0</td>\n",
       "      <td>0</td>\n",
       "      <td>0</td>\n",
       "      <td>15</td>\n",
       "      <td>5</td>\n",
       "      <td>2</td>\n",
       "      <td>8</td>\n",
       "      <td>15</td>\n",
       "    </tr>\n",
       "    <tr>\n",
       "      <th>Argentina (ARG)</th>\n",
       "      <td>23</td>\n",
       "      <td>18</td>\n",
       "      <td>24</td>\n",
       "      <td>28</td>\n",
       "      <td>70</td>\n",
       "      <td>18</td>\n",
       "      <td>0</td>\n",
       "      <td>0</td>\n",
       "      <td>0</td>\n",
       "      <td>0</td>\n",
       "      <td>41</td>\n",
       "      <td>18</td>\n",
       "      <td>24</td>\n",
       "      <td>28</td>\n",
       "      <td>70</td>\n",
       "    </tr>\n",
       "    <tr>\n",
       "      <th>Armenia (ARM)</th>\n",
       "      <td>5</td>\n",
       "      <td>1</td>\n",
       "      <td>2</td>\n",
       "      <td>9</td>\n",
       "      <td>12</td>\n",
       "      <td>6</td>\n",
       "      <td>0</td>\n",
       "      <td>0</td>\n",
       "      <td>0</td>\n",
       "      <td>0</td>\n",
       "      <td>11</td>\n",
       "      <td>1</td>\n",
       "      <td>2</td>\n",
       "      <td>9</td>\n",
       "      <td>12</td>\n",
       "    </tr>\n",
       "    <tr>\n",
       "      <th>Australasia (ANZ) [ANZ]</th>\n",
       "      <td>2</td>\n",
       "      <td>3</td>\n",
       "      <td>4</td>\n",
       "      <td>5</td>\n",
       "      <td>12</td>\n",
       "      <td>0</td>\n",
       "      <td>0</td>\n",
       "      <td>0</td>\n",
       "      <td>0</td>\n",
       "      <td>0</td>\n",
       "      <td>2</td>\n",
       "      <td>3</td>\n",
       "      <td>4</td>\n",
       "      <td>5</td>\n",
       "      <td>12</td>\n",
       "    </tr>\n",
       "    <tr>\n",
       "      <th>...</th>\n",
       "      <td>...</td>\n",
       "      <td>...</td>\n",
       "      <td>...</td>\n",
       "      <td>...</td>\n",
       "      <td>...</td>\n",
       "      <td>...</td>\n",
       "      <td>...</td>\n",
       "      <td>...</td>\n",
       "      <td>...</td>\n",
       "      <td>...</td>\n",
       "      <td>...</td>\n",
       "      <td>...</td>\n",
       "      <td>...</td>\n",
       "      <td>...</td>\n",
       "      <td>...</td>\n",
       "    </tr>\n",
       "    <tr>\n",
       "      <th>Independent Olympic Participants (IOP) [IOP]</th>\n",
       "      <td>1</td>\n",
       "      <td>0</td>\n",
       "      <td>1</td>\n",
       "      <td>2</td>\n",
       "      <td>3</td>\n",
       "      <td>0</td>\n",
       "      <td>0</td>\n",
       "      <td>0</td>\n",
       "      <td>0</td>\n",
       "      <td>0</td>\n",
       "      <td>1</td>\n",
       "      <td>0</td>\n",
       "      <td>1</td>\n",
       "      <td>2</td>\n",
       "      <td>3</td>\n",
       "    </tr>\n",
       "    <tr>\n",
       "      <th>Zambia (ZAM) [ZAM]</th>\n",
       "      <td>12</td>\n",
       "      <td>0</td>\n",
       "      <td>1</td>\n",
       "      <td>1</td>\n",
       "      <td>2</td>\n",
       "      <td>0</td>\n",
       "      <td>0</td>\n",
       "      <td>0</td>\n",
       "      <td>0</td>\n",
       "      <td>0</td>\n",
       "      <td>12</td>\n",
       "      <td>0</td>\n",
       "      <td>1</td>\n",
       "      <td>1</td>\n",
       "      <td>2</td>\n",
       "    </tr>\n",
       "    <tr>\n",
       "      <th>Zimbabwe (ZIM) [ZIM]</th>\n",
       "      <td>12</td>\n",
       "      <td>3</td>\n",
       "      <td>4</td>\n",
       "      <td>1</td>\n",
       "      <td>8</td>\n",
       "      <td>1</td>\n",
       "      <td>0</td>\n",
       "      <td>0</td>\n",
       "      <td>0</td>\n",
       "      <td>0</td>\n",
       "      <td>13</td>\n",
       "      <td>3</td>\n",
       "      <td>4</td>\n",
       "      <td>1</td>\n",
       "      <td>8</td>\n",
       "    </tr>\n",
       "    <tr>\n",
       "      <th>Mixed team (ZZX) [ZZX]</th>\n",
       "      <td>3</td>\n",
       "      <td>8</td>\n",
       "      <td>5</td>\n",
       "      <td>4</td>\n",
       "      <td>17</td>\n",
       "      <td>0</td>\n",
       "      <td>0</td>\n",
       "      <td>0</td>\n",
       "      <td>0</td>\n",
       "      <td>0</td>\n",
       "      <td>3</td>\n",
       "      <td>8</td>\n",
       "      <td>5</td>\n",
       "      <td>4</td>\n",
       "      <td>17</td>\n",
       "    </tr>\n",
       "    <tr>\n",
       "      <th>Totals</th>\n",
       "      <td>27</td>\n",
       "      <td>4809</td>\n",
       "      <td>4775</td>\n",
       "      <td>5130</td>\n",
       "      <td>14714</td>\n",
       "      <td>22</td>\n",
       "      <td>959</td>\n",
       "      <td>958</td>\n",
       "      <td>948</td>\n",
       "      <td>2865</td>\n",
       "      <td>49</td>\n",
       "      <td>5768</td>\n",
       "      <td>5733</td>\n",
       "      <td>6078</td>\n",
       "      <td>17579</td>\n",
       "    </tr>\n",
       "  </tbody>\n",
       "</table>\n",
       "<p>147 rows × 15 columns</p>\n",
       "</div>"
      ],
      "text/plain": [
       "                                              № Summer  01 !  02 !  03 !  \\\n",
       "Afghanistan (AFG)                                   13     0     0     2   \n",
       "Algeria (ALG)                                       12     5     2     8   \n",
       "Argentina (ARG)                                     23    18    24    28   \n",
       "Armenia (ARM)                                        5     1     2     9   \n",
       "Australasia (ANZ) [ANZ]                              2     3     4     5   \n",
       "...                                                ...   ...   ...   ...   \n",
       "Independent Olympic Participants (IOP) [IOP]         1     0     1     2   \n",
       "Zambia (ZAM) [ZAM]                                  12     0     1     1   \n",
       "Zimbabwe (ZIM) [ZIM]                                12     3     4     1   \n",
       "Mixed team (ZZX) [ZZX]                               3     8     5     4   \n",
       "Totals                                              27  4809  4775  5130   \n",
       "\n",
       "                                              Total  № Winter  01 !.1  02 !.1  \\\n",
       "Afghanistan (AFG)                                 2         0       0       0   \n",
       "Algeria (ALG)                                    15         3       0       0   \n",
       "Argentina (ARG)                                  70        18       0       0   \n",
       "Armenia (ARM)                                    12         6       0       0   \n",
       "Australasia (ANZ) [ANZ]                          12         0       0       0   \n",
       "...                                             ...       ...     ...     ...   \n",
       "Independent Olympic Participants (IOP) [IOP]      3         0       0       0   \n",
       "Zambia (ZAM) [ZAM]                                2         0       0       0   \n",
       "Zimbabwe (ZIM) [ZIM]                              8         1       0       0   \n",
       "Mixed team (ZZX) [ZZX]                           17         0       0       0   \n",
       "Totals                                        14714        22     959     958   \n",
       "\n",
       "                                              03 !.1  Total.1  № Games  \\\n",
       "Afghanistan (AFG)                                  0        0       13   \n",
       "Algeria (ALG)                                      0        0       15   \n",
       "Argentina (ARG)                                    0        0       41   \n",
       "Armenia (ARM)                                      0        0       11   \n",
       "Australasia (ANZ) [ANZ]                            0        0        2   \n",
       "...                                              ...      ...      ...   \n",
       "Independent Olympic Participants (IOP) [IOP]       0        0        1   \n",
       "Zambia (ZAM) [ZAM]                                 0        0       12   \n",
       "Zimbabwe (ZIM) [ZIM]                               0        0       13   \n",
       "Mixed team (ZZX) [ZZX]                             0        0        3   \n",
       "Totals                                           948     2865       49   \n",
       "\n",
       "                                              01 !.2  02 !.2  03 !.2  \\\n",
       "Afghanistan (AFG)                                  0       0       2   \n",
       "Algeria (ALG)                                      5       2       8   \n",
       "Argentina (ARG)                                   18      24      28   \n",
       "Armenia (ARM)                                      1       2       9   \n",
       "Australasia (ANZ) [ANZ]                            3       4       5   \n",
       "...                                              ...     ...     ...   \n",
       "Independent Olympic Participants (IOP) [IOP]       0       1       2   \n",
       "Zambia (ZAM) [ZAM]                                 0       1       1   \n",
       "Zimbabwe (ZIM) [ZIM]                               3       4       1   \n",
       "Mixed team (ZZX) [ZZX]                             8       5       4   \n",
       "Totals                                          5768    5733    6078   \n",
       "\n",
       "                                              Combined total  \n",
       "Afghanistan (AFG)                                          2  \n",
       "Algeria (ALG)                                             15  \n",
       "Argentina (ARG)                                           70  \n",
       "Armenia (ARM)                                             12  \n",
       "Australasia (ANZ) [ANZ]                                   12  \n",
       "...                                                      ...  \n",
       "Independent Olympic Participants (IOP) [IOP]               3  \n",
       "Zambia (ZAM) [ZAM]                                         2  \n",
       "Zimbabwe (ZIM) [ZIM]                                       8  \n",
       "Mixed team (ZZX) [ZZX]                                    17  \n",
       "Totals                                                 17579  \n",
       "\n",
       "[147 rows x 15 columns]"
      ]
     },
     "execution_count": 3,
     "metadata": {},
     "output_type": "execute_result"
    }
   ],
   "source": [
    "olympics"
   ]
  },
  {
   "cell_type": "markdown",
   "metadata": {},
   "source": [
    "### Data Preparation and Cleaning"
   ]
  },
  {
   "cell_type": "code",
   "execution_count": 4,
   "metadata": {},
   "outputs": [
    {
     "data": {
      "text/plain": [
       "Index(['Afghanistan (AFG)', 'Algeria (ALG)', 'Argentina (ARG)',\n",
       "       'Armenia (ARM)', 'Australasia (ANZ) [ANZ]', 'Australia (AUS) [AUS] [Z]',\n",
       "       'Austria (AUT)', 'Azerbaijan (AZE)', 'Bahamas (BAH)', 'Bahrain (BRN)',\n",
       "       ...\n",
       "       'Uzbekistan (UZB)', 'Venezuela (VEN)', 'Vietnam (VIE)',\n",
       "       'Virgin Islands (ISV)', 'Yugoslavia (YUG) [YUG]',\n",
       "       'Independent Olympic Participants (IOP) [IOP]', 'Zambia (ZAM) [ZAM]',\n",
       "       'Zimbabwe (ZIM) [ZIM]', 'Mixed team (ZZX) [ZZX]', 'Totals'],\n",
       "      dtype='object', length=147)"
      ]
     },
     "execution_count": 4,
     "metadata": {},
     "output_type": "execute_result"
    }
   ],
   "source": [
    "olympics.index"
   ]
  },
  {
   "cell_type": "code",
   "execution_count": 5,
   "metadata": {},
   "outputs": [
    {
     "data": {
      "text/plain": [
       "(147, 15)"
      ]
     },
     "execution_count": 5,
     "metadata": {},
     "output_type": "execute_result"
    }
   ],
   "source": [
    "olympics.shape"
   ]
  },
  {
   "cell_type": "code",
   "execution_count": 6,
   "metadata": {},
   "outputs": [
    {
     "data": {
      "text/html": [
       "<div>\n",
       "<style scoped>\n",
       "    .dataframe tbody tr th:only-of-type {\n",
       "        vertical-align: middle;\n",
       "    }\n",
       "\n",
       "    .dataframe tbody tr th {\n",
       "        vertical-align: top;\n",
       "    }\n",
       "\n",
       "    .dataframe thead th {\n",
       "        text-align: right;\n",
       "    }\n",
       "</style>\n",
       "<table border=\"1\" class=\"dataframe\">\n",
       "  <thead>\n",
       "    <tr style=\"text-align: right;\">\n",
       "      <th></th>\n",
       "      <th>№ Summer</th>\n",
       "      <th>01 !</th>\n",
       "      <th>02 !</th>\n",
       "      <th>03 !</th>\n",
       "      <th>Total</th>\n",
       "      <th>№ Winter</th>\n",
       "      <th>01 !.1</th>\n",
       "      <th>02 !.1</th>\n",
       "      <th>03 !.1</th>\n",
       "      <th>Total.1</th>\n",
       "      <th>№ Games</th>\n",
       "      <th>01 !.2</th>\n",
       "      <th>02 !.2</th>\n",
       "      <th>03 !.2</th>\n",
       "      <th>Combined total</th>\n",
       "    </tr>\n",
       "  </thead>\n",
       "  <tbody>\n",
       "    <tr>\n",
       "      <th>Afghanistan (AFG)</th>\n",
       "      <td>13</td>\n",
       "      <td>0</td>\n",
       "      <td>0</td>\n",
       "      <td>2</td>\n",
       "      <td>2</td>\n",
       "      <td>0</td>\n",
       "      <td>0</td>\n",
       "      <td>0</td>\n",
       "      <td>0</td>\n",
       "      <td>0</td>\n",
       "      <td>13</td>\n",
       "      <td>0</td>\n",
       "      <td>0</td>\n",
       "      <td>2</td>\n",
       "      <td>2</td>\n",
       "    </tr>\n",
       "    <tr>\n",
       "      <th>Algeria (ALG)</th>\n",
       "      <td>12</td>\n",
       "      <td>5</td>\n",
       "      <td>2</td>\n",
       "      <td>8</td>\n",
       "      <td>15</td>\n",
       "      <td>3</td>\n",
       "      <td>0</td>\n",
       "      <td>0</td>\n",
       "      <td>0</td>\n",
       "      <td>0</td>\n",
       "      <td>15</td>\n",
       "      <td>5</td>\n",
       "      <td>2</td>\n",
       "      <td>8</td>\n",
       "      <td>15</td>\n",
       "    </tr>\n",
       "    <tr>\n",
       "      <th>Argentina (ARG)</th>\n",
       "      <td>23</td>\n",
       "      <td>18</td>\n",
       "      <td>24</td>\n",
       "      <td>28</td>\n",
       "      <td>70</td>\n",
       "      <td>18</td>\n",
       "      <td>0</td>\n",
       "      <td>0</td>\n",
       "      <td>0</td>\n",
       "      <td>0</td>\n",
       "      <td>41</td>\n",
       "      <td>18</td>\n",
       "      <td>24</td>\n",
       "      <td>28</td>\n",
       "      <td>70</td>\n",
       "    </tr>\n",
       "    <tr>\n",
       "      <th>Armenia (ARM)</th>\n",
       "      <td>5</td>\n",
       "      <td>1</td>\n",
       "      <td>2</td>\n",
       "      <td>9</td>\n",
       "      <td>12</td>\n",
       "      <td>6</td>\n",
       "      <td>0</td>\n",
       "      <td>0</td>\n",
       "      <td>0</td>\n",
       "      <td>0</td>\n",
       "      <td>11</td>\n",
       "      <td>1</td>\n",
       "      <td>2</td>\n",
       "      <td>9</td>\n",
       "      <td>12</td>\n",
       "    </tr>\n",
       "    <tr>\n",
       "      <th>Australasia (ANZ) [ANZ]</th>\n",
       "      <td>2</td>\n",
       "      <td>3</td>\n",
       "      <td>4</td>\n",
       "      <td>5</td>\n",
       "      <td>12</td>\n",
       "      <td>0</td>\n",
       "      <td>0</td>\n",
       "      <td>0</td>\n",
       "      <td>0</td>\n",
       "      <td>0</td>\n",
       "      <td>2</td>\n",
       "      <td>3</td>\n",
       "      <td>4</td>\n",
       "      <td>5</td>\n",
       "      <td>12</td>\n",
       "    </tr>\n",
       "  </tbody>\n",
       "</table>\n",
       "</div>"
      ],
      "text/plain": [
       "                         № Summer  01 !  02 !  03 !  Total  № Winter  01 !.1  \\\n",
       "Afghanistan (AFG)              13     0     0     2      2         0       0   \n",
       "Algeria (ALG)                  12     5     2     8     15         3       0   \n",
       "Argentina (ARG)                23    18    24    28     70        18       0   \n",
       "Armenia (ARM)                   5     1     2     9     12         6       0   \n",
       "Australasia (ANZ) [ANZ]         2     3     4     5     12         0       0   \n",
       "\n",
       "                         02 !.1  03 !.1  Total.1  № Games  01 !.2  02 !.2  \\\n",
       "Afghanistan (AFG)             0       0        0       13       0       0   \n",
       "Algeria (ALG)                 0       0        0       15       5       2   \n",
       "Argentina (ARG)               0       0        0       41      18      24   \n",
       "Armenia (ARM)                 0       0        0       11       1       2   \n",
       "Australasia (ANZ) [ANZ]       0       0        0        2       3       4   \n",
       "\n",
       "                         03 !.2  Combined total  \n",
       "Afghanistan (AFG)             2               2  \n",
       "Algeria (ALG)                 8              15  \n",
       "Argentina (ARG)              28              70  \n",
       "Armenia (ARM)                 9              12  \n",
       "Australasia (ANZ) [ANZ]       5              12  "
      ]
     },
     "execution_count": 6,
     "metadata": {},
     "output_type": "execute_result"
    }
   ],
   "source": [
    "olympics.head()"
   ]
  },
  {
   "cell_type": "code",
   "execution_count": 7,
   "metadata": {},
   "outputs": [
    {
     "name": "stdout",
     "output_type": "stream",
     "text": [
      "<class 'pandas.core.frame.DataFrame'>\n",
      "Index: 147 entries, Afghanistan (AFG) to Totals\n",
      "Data columns (total 15 columns):\n",
      " #   Column          Non-Null Count  Dtype\n",
      "---  ------          --------------  -----\n",
      " 0   № Summer        147 non-null    int64\n",
      " 1   01 !            147 non-null    int64\n",
      " 2   02 !            147 non-null    int64\n",
      " 3   03 !            147 non-null    int64\n",
      " 4   Total           147 non-null    int64\n",
      " 5   № Winter        147 non-null    int64\n",
      " 6   01 !.1          147 non-null    int64\n",
      " 7   02 !.1          147 non-null    int64\n",
      " 8   03 !.1          147 non-null    int64\n",
      " 9   Total.1         147 non-null    int64\n",
      " 10  № Games         147 non-null    int64\n",
      " 11  01 !.2          147 non-null    int64\n",
      " 12  02 !.2          147 non-null    int64\n",
      " 13  03 !.2          147 non-null    int64\n",
      " 14  Combined total  147 non-null    int64\n",
      "dtypes: int64(15)\n",
      "memory usage: 18.4+ KB\n"
     ]
    }
   ],
   "source": [
    "olympics.info()"
   ]
  },
  {
   "cell_type": "code",
   "execution_count": 8,
   "metadata": {},
   "outputs": [
    {
     "data": {
      "text/plain": [
       "№ Summer          0\n",
       "01 !              0\n",
       "02 !              0\n",
       "03 !              0\n",
       "Total             0\n",
       "№ Winter          0\n",
       "01 !.1            0\n",
       "02 !.1            0\n",
       "03 !.1            0\n",
       "Total.1           0\n",
       "№ Games           0\n",
       "01 !.2            0\n",
       "02 !.2            0\n",
       "03 !.2            0\n",
       "Combined total    0\n",
       "dtype: int64"
      ]
     },
     "execution_count": 8,
     "metadata": {},
     "output_type": "execute_result"
    }
   ],
   "source": [
    "olympics.isna().sum()"
   ]
  },
  {
   "cell_type": "markdown",
   "metadata": {},
   "source": [
    "#### Modifying column headers"
   ]
  },
  {
   "cell_type": "code",
   "execution_count": 9,
   "metadata": {},
   "outputs": [],
   "source": [
    "olympics.columns = [\"No Summer\", \"Summer - Gold\", \"Summer - Silver\", \"Summer - Bronze\", \"Summer - Total\",\n",
    "                   \"No Winter\", \"Winter - Gold\", \"Winter - Silver\", \"Winter - Bronze\", \"Winter - Total\",\n",
    "                   \"No Total\", \"Total - Gold\", \"Total - Silver\", \"Total - Bronze\", \"Total - Medals\"]"
   ]
  },
  {
   "cell_type": "markdown",
   "metadata": {},
   "source": [
    "#### Modifying index values"
   ]
  },
  {
   "cell_type": "code",
   "execution_count": 10,
   "metadata": {},
   "outputs": [],
   "source": [
    "names_ids = olympics.index.str.split('\\s\\(') # split the index by '('\n",
    "\n",
    "olympics.index = names_ids.str[0] # the [0] element is the country name (new index) "
   ]
  },
  {
   "cell_type": "markdown",
   "metadata": {},
   "source": [
    "#### Droping totals row."
   ]
  },
  {
   "cell_type": "code",
   "execution_count": 11,
   "metadata": {},
   "outputs": [],
   "source": [
    "olympics.drop(\"Totals\", inplace=True)"
   ]
  },
  {
   "cell_type": "markdown",
   "metadata": {},
   "source": [
    "##### Display list of Country names which has never won a Gold in Summer"
   ]
  },
  {
   "cell_type": "code",
   "execution_count": 12,
   "metadata": {},
   "outputs": [
    {
     "name": "stdout",
     "output_type": "stream",
     "text": [
      "['Afghanistan', 'Bahrain', 'Barbados', 'Bermuda', 'Bohemia', 'Botswana', 'British West Indies', 'Ivory Coast', 'Cyprus', 'Djibouti', 'Eritrea', 'Gabon', 'Ghana', 'Guatemala', 'Guyana', 'Haiti', 'Iceland', 'Iraq', 'Kuwait', 'Kyrgyzstan', 'Lebanon', 'Liechtenstein', 'Macedonia', 'Malaysia', 'Mauritius', 'Moldova', 'Montenegro', 'Namibia', 'Netherlands Antilles', 'Niger', 'Paraguay', 'Philippines', 'Puerto Rico', 'Qatar', 'Saudi Arabia', 'Senegal', 'Singapore', 'Sri Lanka', 'Sudan', 'Tajikistan', 'Tanzania', 'Togo', 'Tonga', 'Vietnam', 'Virgin Islands', 'Independent Olympic Participants', 'Zambia']\n"
     ]
    }
   ],
   "source": [
    "print(list(olympics[olympics[\"Summer - Gold\"] == 0].index))"
   ]
  },
  {
   "cell_type": "markdown",
   "metadata": {},
   "source": [
    "##### Display list of Country names which has never won a Gold in either Summer or Winter Games"
   ]
  },
  {
   "cell_type": "code",
   "execution_count": 13,
   "metadata": {},
   "outputs": [
    {
     "name": "stdout",
     "output_type": "stream",
     "text": [
      "['Afghanistan', 'Algeria', 'Argentina', 'Armenia', 'Australasia', 'Azerbaijan', 'Bahamas', 'Bahrain', 'Barbados', 'Bermuda', 'Bohemia', 'Botswana', 'Brazil', 'British West Indies', 'Burundi', 'Cameroon', 'Chile', 'Colombia', 'Costa Rica', 'Ivory Coast', 'Cuba', 'Cyprus', 'Denmark', 'Djibouti', 'Dominican Republic', 'Ecuador', 'Egypt', 'Eritrea', 'Ethiopia', 'Gabon', 'Georgia', 'Ghana', 'Greece', 'Grenada', 'Guatemala', 'Guyana', 'Haiti', 'Hong Kong', 'Hungary', 'Iceland', 'India', 'Indonesia', 'Iran', 'Iraq', 'Ireland', 'Israel', 'Jamaica', 'Kenya', 'North Korea', 'Kuwait', 'Kyrgyzstan', 'Latvia', 'Lebanon', 'Liechtenstein', 'Lithuania', 'Luxembourg', 'Macedonia', 'Malaysia', 'Mauritius', 'Mexico', 'Moldova', 'Mongolia', 'Montenegro', 'Morocco', 'Mozambique', 'Namibia', 'Netherlands Antilles', 'New Zealand', 'Niger', 'Nigeria', 'Pakistan', 'Panama', 'Paraguay', 'Peru', 'Philippines', 'Portugal', 'Puerto Rico', 'Qatar', 'Romania', 'Russian Empire', 'Saudi Arabia', 'Senegal', 'Serbia', 'Serbia and Montenegro', 'Singapore', 'South Africa', 'Sri Lanka', 'Sudan', 'Suriname', 'Syria', 'Chinese Taipei', 'Tajikistan', 'Tanzania', 'Thailand', 'Togo', 'Tonga', 'Trinidad and Tobago', 'Tunisia', 'Turkey', 'Uganda', 'United Arab Emirates', 'Uruguay', 'Venezuela', 'Vietnam', 'Virgin Islands', 'Yugoslavia', 'Independent Olympic Participants', 'Zambia', 'Zimbabwe', 'Mixed team']\n"
     ]
    }
   ],
   "source": [
    "summer_0 = olympics[\"Summer - Gold\"] == 0\n",
    "winter_0 =olympics[\"Winter - Gold\"] == 0\n",
    "print(list(olympics[np.logical_or(summer_0, winter_0)].index))"
   ]
  },
  {
   "cell_type": "markdown",
   "metadata": {},
   "source": [
    "##### Display name of the Country which has never won a Gold in Summer Games but won in Winter Games"
   ]
  },
  {
   "cell_type": "code",
   "execution_count": 14,
   "metadata": {},
   "outputs": [
    {
     "data": {
      "text/plain": [
       "'Liechtenstein'"
      ]
     },
     "execution_count": 14,
     "metadata": {},
     "output_type": "execute_result"
    }
   ],
   "source": [
    "winter_1 = olympics[\"Winter - Gold\"] != 0\n",
    "olympics[ summer_0 & winter_1].index[0]"
   ]
  },
  {
   "cell_type": "markdown",
   "metadata": {},
   "source": [
    "##### Which country has won maximum number of medals"
   ]
  },
  {
   "cell_type": "code",
   "execution_count": 15,
   "metadata": {},
   "outputs": [
    {
     "data": {
      "text/plain": [
       "'United States'"
      ]
     },
     "execution_count": 15,
     "metadata": {},
     "output_type": "execute_result"
    }
   ],
   "source": [
    "olympics[olympics[\"Total - Medals\"] == max(olympics[\"Total - Medals\"])].index[0]"
   ]
  },
  {
   "cell_type": "markdown",
   "metadata": {},
   "source": [
    "##### Which country has won the most gold medals in winter games? Plot a pie chart showing Gold, Silver, Bronze totals for this country"
   ]
  },
  {
   "cell_type": "code",
   "execution_count": 16,
   "metadata": {},
   "outputs": [],
   "source": [
    "winter_gold = olympics[olympics[\"Winter - Gold\"] == max(olympics[\"Winter - Gold\"])] "
   ]
  },
  {
   "cell_type": "code",
   "execution_count": 17,
   "metadata": {},
   "outputs": [],
   "source": [
    "norway_medals = winter_gold.melt(var_name=\"Medal\", value_name=\"Count\")[11:14]"
   ]
  },
  {
   "cell_type": "code",
   "execution_count": 18,
   "metadata": {},
   "outputs": [
    {
     "data": {
      "text/plain": [
       "Text(0, 0.5, '')"
      ]
     },
     "execution_count": 18,
     "metadata": {},
     "output_type": "execute_result"
    },
    {
     "data": {
      "image/png": "[encoded data removed]",
      "text/plain": [
       "<Figure size 1440x216 with 1 Axes>"
      ]
     },
     "metadata": {},
     "output_type": "display_data"
    }
   ],
   "source": [
    "ax = norway_medals.plot(kind = \"pie\", y =\"Count\", legend = \"\", figsize = (20,3))\n",
    "\n",
    "ax.set_ylabel(\"\")"
   ]
  },
  {
   "cell_type": "markdown",
   "metadata": {},
   "source": [
    "##### Which country had the biggest difference between their summer and winter gold medal counts?"
   ]
  },
  {
   "cell_type": "code",
   "execution_count": 19,
   "metadata": {},
   "outputs": [
    {
     "data": {
      "text/plain": [
       "'United States'"
      ]
     },
     "execution_count": 19,
     "metadata": {},
     "output_type": "execute_result"
    }
   ],
   "source": [
    "difference = abs(olympics[\"Summer - Gold\"] - olympics[\"Winter - Gold\"])\n",
    "difference.idxmax()"
   ]
  },
  {
   "cell_type": "code",
   "execution_count": 20,
   "metadata": {},
   "outputs": [
    {
     "data": {
      "text/html": [
       "<div>\n",
       "<style scoped>\n",
       "    .dataframe tbody tr th:only-of-type {\n",
       "        vertical-align: middle;\n",
       "    }\n",
       "\n",
       "    .dataframe tbody tr th {\n",
       "        vertical-align: top;\n",
       "    }\n",
       "\n",
       "    .dataframe thead th {\n",
       "        text-align: right;\n",
       "    }\n",
       "</style>\n",
       "<table border=\"1\" class=\"dataframe\">\n",
       "  <thead>\n",
       "    <tr style=\"text-align: right;\">\n",
       "      <th></th>\n",
       "      <th>No Summer</th>\n",
       "      <th>Summer - Gold</th>\n",
       "      <th>Summer - Silver</th>\n",
       "      <th>Summer - Bronze</th>\n",
       "      <th>Summer - Total</th>\n",
       "      <th>No Winter</th>\n",
       "      <th>Winter - Gold</th>\n",
       "      <th>Winter - Silver</th>\n",
       "      <th>Winter - Bronze</th>\n",
       "      <th>Winter - Total</th>\n",
       "      <th>No Total</th>\n",
       "      <th>Total - Gold</th>\n",
       "      <th>Total - Silver</th>\n",
       "      <th>Total - Bronze</th>\n",
       "      <th>Total - Medals</th>\n",
       "    </tr>\n",
       "  </thead>\n",
       "  <tbody>\n",
       "    <tr>\n",
       "      <th>United States</th>\n",
       "      <td>26</td>\n",
       "      <td>976</td>\n",
       "      <td>757</td>\n",
       "      <td>666</td>\n",
       "      <td>2399</td>\n",
       "      <td>22</td>\n",
       "      <td>96</td>\n",
       "      <td>102</td>\n",
       "      <td>84</td>\n",
       "      <td>282</td>\n",
       "      <td>48</td>\n",
       "      <td>1072</td>\n",
       "      <td>859</td>\n",
       "      <td>750</td>\n",
       "      <td>2681</td>\n",
       "    </tr>\n",
       "  </tbody>\n",
       "</table>\n",
       "</div>"
      ],
      "text/plain": [
       "               No Summer  Summer - Gold  Summer - Silver  Summer - Bronze  \\\n",
       "United States         26            976              757              666   \n",
       "\n",
       "               Summer - Total  No Winter  Winter - Gold  Winter - Silver  \\\n",
       "United States            2399         22             96              102   \n",
       "\n",
       "               Winter - Bronze  Winter - Total  No Total  Total - Gold  \\\n",
       "United States               84             282        48          1072   \n",
       "\n",
       "               Total - Silver  Total - Bronze  Total - Medals  \n",
       "United States             859             750            2681  "
      ]
     },
     "execution_count": 20,
     "metadata": {},
     "output_type": "execute_result"
    }
   ],
   "source": [
    "olympics[olympics.index == difference.idxmax()] "
   ]
  },
  {
   "cell_type": "markdown",
   "metadata": {},
   "source": [
    "##### Which country has the biggest difference between their summer gold medal counts and winter gold medal counts relative to their total gold medal count?\n",
    " \n",
    "Only include countries that have won at least 1 gold in both summer and winter."
   ]
  },
  {
   "cell_type": "code",
   "execution_count": 21,
   "metadata": {},
   "outputs": [
    {
     "data": {
      "text/plain": [
       "'China'"
      ]
     },
     "execution_count": 21,
     "metadata": {},
     "output_type": "execute_result"
    }
   ],
   "source": [
    "gold_winners = olympics[(olympics['Summer - Gold'] > 0) & (olympics['Winter - Gold'] > 0)].copy()\n",
    "gold_winners['Gold Medal Diff'] = abs(gold_winners['Summer - Gold'] - gold_winners['Winter - Gold'])\n",
    "gold_winners['Relative Gold'] = gold_winners['Gold Medal Diff']/gold_winners['Total - Medals']\n",
    "\n",
    "gold_winners['Relative Gold'].idxmax()"
   ]
  },
  {
   "cell_type": "markdown",
   "metadata": {},
   "source": [
    "##### Write a function that creates a Series called \"Points\" which is a weighted value where each gold medal counts for 3 points, silver medals for 2 points, and bronze medals for 1 point. The function should return only the column (a Series object) which you created, with the country names as indices."
   ]
  },
  {
   "cell_type": "code",
   "execution_count": 22,
   "metadata": {},
   "outputs": [],
   "source": [
    "def points() :\n",
    "    total_pts = olympics[\"Total - Gold\"] * 3 + olympics[\"Total - Silver\"] * 2 + olympics[\"Total - Bronze\"]                            \n",
    "    return total_pts.sort_values(ascending = False)"
   ]
  },
  {
   "cell_type": "markdown",
   "metadata": {},
   "source": [
    "##### Identify top 5 medal winners (countries). Store their details in a new Data frame. Plot a bar chart showing their Gold, Silver, Bronze counts\n",
    "\n"
   ]
  },
  {
   "cell_type": "code",
   "execution_count": 23,
   "metadata": {},
   "outputs": [],
   "source": [
    "top_5 = olympics.loc[points().head().index]\n",
    "total_med = top_5[[\"Total - Gold\", \"Total - Silver\", \"Total - Bronze\"]]"
   ]
  },
  {
   "cell_type": "code",
   "execution_count": 24,
   "metadata": {},
   "outputs": [
    {
     "data": {
      "text/plain": [
       "Text(0, 0.5, 'Medals Count')"
      ]
     },
     "execution_count": 24,
     "metadata": {},
     "output_type": "execute_result"
    },
    {
     "data": {
      "image/png": "[encoded data removed]",
      "text/plain": [
       "<Figure size 1440x360 with 1 Axes>"
      ]
     },
     "metadata": {
      "needs_background": "light"
     },
     "output_type": "display_data"
    }
   ],
   "source": [
    "colors = [\"#FCC201\",\"#C0C0C0\",\"#cd7f32\"]\n",
    "\n",
    "ax = total_med.plot(kind = \"bar\", color = colors, figsize = (20, 5), rot = 0)\n",
    "\n",
    "ax.set_xlabel(\"Countries\", labelpad = 15,\n",
    "              fontdict = {'fontsize':20, 'fontweight':2, 'color':'#1369B5'})\n",
    "\n",
    "ax.set_ylabel(\"Medals Count\", labelpad = 15,\n",
    "              fontdict = {'fontsize':20, 'fontweight':2, 'color':'#1369B5'})"
   ]
  }
 ],
 "metadata": {
  "kernelspec": {
   "display_name": "Python 3",
   "language": "python",
   "name": "python3"
  },
  "language_info": {
   "codemirror_mode": {
    "name": "ipython",
    "version": 3
   },
   "file_extension": ".py",
   "mimetype": "text/x-python",
   "name": "python",
   "nbconvert_exporter": "python",
   "pygments_lexer": "ipython3",
   "version": "3.9.1"
  }
 },
 "nbformat": 4,
 "nbformat_minor": 1
}
