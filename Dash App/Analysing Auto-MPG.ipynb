{
 "cells": [
  {
   "cell_type": "code",
   "execution_count": null,
   "id": "d27df070-b91b-4a18-b877-c1185425cdd7",
   "metadata": {},
   "outputs": [],
   "source": []
  }
 ],
 "metadata": {
  "kernelspec": {
   "display_name": "",
   "name": ""
  },
  "language_info": {
   "name": ""
  }
 },
 "nbformat": 4,
 "nbformat_minor": 5
}
