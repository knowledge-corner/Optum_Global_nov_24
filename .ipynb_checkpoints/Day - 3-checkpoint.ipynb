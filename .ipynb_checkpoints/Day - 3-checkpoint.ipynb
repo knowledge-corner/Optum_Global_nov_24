{
 "cells": [
  {
   "cell_type": "code",
   "execution_count": 13,
   "id": "5fce0c6f-c242-4988-8bfa-c35abf2170cf",
   "metadata": {},
   "outputs": [
    {
     "data": {
      "text/html": [
       "<div>\n",
       "<style scoped>\n",
       "    .dataframe tbody tr th:only-of-type {\n",
       "        vertical-align: middle;\n",
       "    }\n",
       "\n",
       "    .dataframe tbody tr th {\n",
       "        vertical-align: top;\n",
       "    }\n",
       "\n",
       "    .dataframe thead th {\n",
       "        text-align: right;\n",
       "    }\n",
       "</style>\n",
       "<table border=\"1\" class=\"dataframe\">\n",
       "  <thead>\n",
       "    <tr style=\"text-align: right;\">\n",
       "      <th></th>\n",
       "      <th>Name</th>\n",
       "      <th>Salary</th>\n",
       "      <th>Designation</th>\n",
       "      <th>Age</th>\n",
       "      <th>Gender</th>\n",
       "      <th>Owns Car</th>\n",
       "    </tr>\n",
       "  </thead>\n",
       "  <tbody>\n",
       "    <tr>\n",
       "      <th>0</th>\n",
       "      <td>Claire</td>\n",
       "      <td>88962</td>\n",
       "      <td>Manager</td>\n",
       "      <td>35</td>\n",
       "      <td>Female</td>\n",
       "      <td>Yes</td>\n",
       "    </tr>\n",
       "    <tr>\n",
       "      <th>1</th>\n",
       "      <td>Darrin</td>\n",
       "      <td>67659</td>\n",
       "      <td>Team Lead</td>\n",
       "      <td>26</td>\n",
       "      <td>Male</td>\n",
       "      <td>No</td>\n",
       "    </tr>\n",
       "  </tbody>\n",
       "</table>\n",
       "</div>"
      ],
      "text/plain": [
       "     Name  Salary Designation  Age  Gender Owns Car\n",
       "0  Claire   88962     Manager   35  Female      Yes\n",
       "1  Darrin   67659   Team Lead   26    Male       No"
      ]
     },
     "execution_count": 13,
     "metadata": {},
     "output_type": "execute_result"
    }
   ],
   "source": [
    "import numpy as np\n",
    "import pandas as pd\n",
    "import matplotlib.pyplot as plt\n",
    "import seaborn as sns\n",
    "\n",
    "plt.rcParams[\"figure.figsize\"] = (4, 3)\n",
    "\n",
    "df = pd.read_csv(r\"./datasets/employees.csv\")\n",
    "df.head(2)"
   ]
  },
  {
   "cell_type": "code",
   "execution_count": 5,
   "id": "76f67ab1-465d-47e6-a552-43cfe2bc9137",
   "metadata": {},
   "outputs": [
    {
     "data": {
      "text/plain": [
       "0    88962\n",
       "1    67659\n",
       "Name: Salary, dtype: int64"
      ]
     },
     "execution_count": 5,
     "metadata": {},
     "output_type": "execute_result"
    }
   ],
   "source": [
    "df.Salary.head(2)"
   ]
  },
  {
   "cell_type": "code",
   "execution_count": null,
   "id": "86507a6d-194b-499b-b9de-be2e63c4591d",
   "metadata": {},
   "outputs": [],
   "source": [
    "df[df.Salary > 30000]  # fillter is applied to the rows"
   ]
  },
  {
   "cell_type": "code",
   "execution_count": 9,
   "id": "5d8244a4-50f4-4765-9eba-71c2cef0fbdc",
   "metadata": {},
   "outputs": [
    {
     "data": {
      "text/html": [
       "<div>\n",
       "<style scoped>\n",
       "    .dataframe tbody tr th:only-of-type {\n",
       "        vertical-align: middle;\n",
       "    }\n",
       "\n",
       "    .dataframe tbody tr th {\n",
       "        vertical-align: top;\n",
       "    }\n",
       "\n",
       "    .dataframe thead th {\n",
       "        text-align: right;\n",
       "    }\n",
       "</style>\n",
       "<table border=\"1\" class=\"dataframe\">\n",
       "  <thead>\n",
       "    <tr style=\"text-align: right;\">\n",
       "      <th></th>\n",
       "      <th>Name</th>\n",
       "      <th>Salary</th>\n",
       "    </tr>\n",
       "  </thead>\n",
       "  <tbody>\n",
       "    <tr>\n",
       "      <th>0</th>\n",
       "      <td>Claire</td>\n",
       "      <td>88962</td>\n",
       "    </tr>\n",
       "    <tr>\n",
       "      <th>1</th>\n",
       "      <td>Darrin</td>\n",
       "      <td>67659</td>\n",
       "    </tr>\n",
       "    <tr>\n",
       "      <th>2</th>\n",
       "      <td>Sean</td>\n",
       "      <td>117501</td>\n",
       "    </tr>\n",
       "  </tbody>\n",
       "</table>\n",
       "</div>"
      ],
      "text/plain": [
       "     Name  Salary\n",
       "0  Claire   88962\n",
       "1  Darrin   67659\n",
       "2    Sean  117501"
      ]
     },
     "execution_count": 9,
     "metadata": {},
     "output_type": "execute_result"
    }
   ],
   "source": [
    "df.loc[[0,1,2], [\"Name\", \"Salary\"]]  # extract data from df based on column and row labels"
   ]
  },
  {
   "cell_type": "code",
   "execution_count": 17,
   "id": "cc30c633-de32-4aec-86c0-7cf763fc5d74",
   "metadata": {},
   "outputs": [
    {
     "data": {
      "text/plain": [
       "0      88962\n",
       "2     117501\n",
       "11    115116\n",
       "14    109132\n",
       "15     83327\n",
       "Name: Salary, dtype: int64"
      ]
     },
     "execution_count": 17,
     "metadata": {},
     "output_type": "execute_result"
    }
   ],
   "source": [
    "# Modify salary of employees where salary is > 600000 to 90000\n",
    "df.Salary[df.Designation == \"Manager\"]"
   ]
  },
  {
   "cell_type": "code",
   "execution_count": 26,
   "id": "4bb19a67-affc-4fa3-8089-e3e0f072a937",
   "metadata": {},
   "outputs": [
    {
     "name": "stderr",
     "output_type": "stream",
     "text": [
      "C:\\Users\\vaide\\AppData\\Local\\Temp\\ipykernel_10640\\1537389950.py:1: SettingWithCopyWarning: \n",
      "A value is trying to be set on a copy of a slice from a DataFrame\n",
      "\n",
      "See the caveats in the documentation: https://pandas.pydata.org/pandas-docs/stable/user_guide/indexing.html#returning-a-view-versus-a-copy\n",
      "  df[\"Salary\"][df.Designation == \"Manager\"] = 900000\n"
     ]
    }
   ],
   "source": [
    "df[\"Salary\"][df.Designation == \"Manager\"] = 90000 # Avoid this syntax"
   ]
  },
  {
   "cell_type": "code",
   "execution_count": 29,
   "id": "6a23ba41-a0f1-4eca-8f69-4e646ae2cf7d",
   "metadata": {},
   "outputs": [],
   "source": [
    "df.loc[df.Designation == \"Manager\", \"Salary\"] = 1000000  # Use this syntax"
   ]
  },
  {
   "cell_type": "code",
   "execution_count": 30,
   "id": "8ef98b3a-49bd-4cec-b60e-627e4cd18148",
   "metadata": {},
   "outputs": [
    {
     "data": {
      "text/plain": [
       "np.float64(210929.13333333333)"
      ]
     },
     "execution_count": 30,
     "metadata": {},
     "output_type": "execute_result"
    }
   ],
   "source": [
    "df.Salary.mean()"
   ]
  },
  {
   "cell_type": "code",
   "execution_count": 31,
   "id": "f17cbcff-8982-4b9c-9c5d-b5835b47d5d9",
   "metadata": {},
   "outputs": [
    {
     "data": {
      "text/html": [
       "<div>\n",
       "<style scoped>\n",
       "    .dataframe tbody tr th:only-of-type {\n",
       "        vertical-align: middle;\n",
       "    }\n",
       "\n",
       "    .dataframe tbody tr th {\n",
       "        vertical-align: top;\n",
       "    }\n",
       "\n",
       "    .dataframe thead th {\n",
       "        text-align: right;\n",
       "    }\n",
       "</style>\n",
       "<table border=\"1\" class=\"dataframe\">\n",
       "  <thead>\n",
       "    <tr style=\"text-align: right;\">\n",
       "      <th></th>\n",
       "      <th>Name</th>\n",
       "      <th>Salary</th>\n",
       "      <th>Designation</th>\n",
       "      <th>Age</th>\n",
       "      <th>Gender</th>\n",
       "      <th>Owns Car</th>\n",
       "    </tr>\n",
       "  </thead>\n",
       "  <tbody>\n",
       "    <tr>\n",
       "      <th>25</th>\n",
       "      <td>Jack</td>\n",
       "      <td>13058</td>\n",
       "      <td>Developer</td>\n",
       "      <td>25</td>\n",
       "      <td>Male</td>\n",
       "      <td>Yes</td>\n",
       "    </tr>\n",
       "    <tr>\n",
       "      <th>26</th>\n",
       "      <td>Ted</td>\n",
       "      <td>26180</td>\n",
       "      <td>Team Lead</td>\n",
       "      <td>27</td>\n",
       "      <td>Male</td>\n",
       "      <td>Yes</td>\n",
       "    </tr>\n",
       "    <tr>\n",
       "      <th>27</th>\n",
       "      <td>Kunst</td>\n",
       "      <td>23259</td>\n",
       "      <td>Developer</td>\n",
       "      <td>24</td>\n",
       "      <td>Male</td>\n",
       "      <td>No</td>\n",
       "    </tr>\n",
       "    <tr>\n",
       "      <th>28</th>\n",
       "      <td>Paul</td>\n",
       "      <td>34248</td>\n",
       "      <td>Team Lead</td>\n",
       "      <td>27</td>\n",
       "      <td>Male</td>\n",
       "      <td>Yes</td>\n",
       "    </tr>\n",
       "    <tr>\n",
       "      <th>29</th>\n",
       "      <td>Brendan</td>\n",
       "      <td>27416</td>\n",
       "      <td>Team Lead</td>\n",
       "      <td>30</td>\n",
       "      <td>Male</td>\n",
       "      <td>Yes</td>\n",
       "    </tr>\n",
       "  </tbody>\n",
       "</table>\n",
       "</div>"
      ],
      "text/plain": [
       "       Name  Salary Designation  Age Gender Owns Car\n",
       "25     Jack   13058   Developer   25   Male      Yes\n",
       "26      Ted   26180   Team Lead   27   Male      Yes\n",
       "27    Kunst   23259   Developer   24   Male       No\n",
       "28     Paul   34248   Team Lead   27   Male      Yes\n",
       "29  Brendan   27416   Team Lead   30   Male      Yes"
      ]
     },
     "execution_count": 31,
     "metadata": {},
     "output_type": "execute_result"
    }
   ],
   "source": [
    "df.tail() # gives bottom rows"
   ]
  },
  {
   "cell_type": "markdown",
   "id": "5d991434-029b-4a95-acf1-81eea0c0eccf",
   "metadata": {},
   "source": [
    "## Dataframe\n",
    "\n",
    "A DataFrame is two dimensional data structure where the data is arranged in the tabular format in rows and columns\n",
    "\n",
    "#### DataFrame features:\n",
    "\n",
    "- Columns can be of different data types\n",
    "- Size of dataframe can be changes\n",
    "- Axes(rows and columns) are labeled\n",
    "- Arithmetic operations can be performed on rows and columns"
   ]
  },
  {
   "cell_type": "code",
   "execution_count": 51,
   "id": "f3440ead-38ac-4ae7-ac7d-51d96a6a0863",
   "metadata": {},
   "outputs": [
    {
     "data": {
      "text/html": [
       "<div>\n",
       "<style scoped>\n",
       "    .dataframe tbody tr th:only-of-type {\n",
       "        vertical-align: middle;\n",
       "    }\n",
       "\n",
       "    .dataframe tbody tr th {\n",
       "        vertical-align: top;\n",
       "    }\n",
       "\n",
       "    .dataframe thead th {\n",
       "        text-align: right;\n",
       "    }\n",
       "</style>\n",
       "<table border=\"1\" class=\"dataframe\">\n",
       "  <thead>\n",
       "    <tr style=\"text-align: right;\">\n",
       "      <th></th>\n",
       "      <th>Name</th>\n",
       "      <th>Salary</th>\n",
       "      <th>Designation</th>\n",
       "      <th>Age</th>\n",
       "      <th>Gender</th>\n",
       "      <th>Owns Car</th>\n",
       "    </tr>\n",
       "  </thead>\n",
       "  <tbody>\n",
       "    <tr>\n",
       "      <th>0</th>\n",
       "      <td>Claire</td>\n",
       "      <td>88962</td>\n",
       "      <td>Manager</td>\n",
       "      <td>35</td>\n",
       "      <td>Female</td>\n",
       "      <td>Yes</td>\n",
       "    </tr>\n",
       "    <tr>\n",
       "      <th>1</th>\n",
       "      <td>Darrin</td>\n",
       "      <td>67659</td>\n",
       "      <td>Team Lead</td>\n",
       "      <td>26</td>\n",
       "      <td>Male</td>\n",
       "      <td>No</td>\n",
       "    </tr>\n",
       "  </tbody>\n",
       "</table>\n",
       "</div>"
      ],
      "text/plain": [
       "     Name  Salary Designation  Age  Gender Owns Car\n",
       "0  Claire   88962     Manager   35  Female      Yes\n",
       "1  Darrin   67659   Team Lead   26    Male       No"
      ]
     },
     "execution_count": 51,
     "metadata": {},
     "output_type": "execute_result"
    }
   ],
   "source": [
    "import numpy as np\n",
    "import pandas as pd\n",
    "import matplotlib.pyplot as plt\n",
    "import seaborn as sns\n",
    "\n",
    "plt.rcParams[\"figure.figsize\"] = (4, 3)\n",
    "\n",
    "df = pd.read_csv(r\"./datasets/employees.csv\")\n",
    "df.head(2)"
   ]
  },
  {
   "cell_type": "markdown",
   "id": "86e3c2f5-1549-4bc5-b0f9-3aaebc08a24d",
   "metadata": {},
   "source": [
    "### Understanding Data in Dataframe\n",
    "\n",
    "- `df.shape` - gives the size of the dataframe in the format (row_count x column_count)\n",
    "- `df.dtypes` - returns a Series with the data type of each column\n",
    "- `df.info()` - prints information about a DataFrame including the index dtype and columns, non-null values and memory usage\n",
    "- `df.head()` - prints the first 5 rows of you dataset including column header and the content of each row\n",
    "- `df.tail()` - prints the last 5 rows of you dataset including column header and the content of each row"
   ]
  },
  {
   "cell_type": "code",
   "execution_count": 33,
   "id": "69bc69d9-e85f-4eeb-93bd-dba68039adb8",
   "metadata": {},
   "outputs": [
    {
     "data": {
      "text/plain": [
       "(30, 6)"
      ]
     },
     "execution_count": 33,
     "metadata": {},
     "output_type": "execute_result"
    }
   ],
   "source": [
    "df.shape"
   ]
  },
  {
   "cell_type": "code",
   "execution_count": 34,
   "id": "4fa12165-b82d-407f-8724-d3cfb805272b",
   "metadata": {},
   "outputs": [
    {
     "data": {
      "text/plain": [
       "Name           object\n",
       "Salary          int64\n",
       "Designation    object\n",
       "Age             int64\n",
       "Gender         object\n",
       "Owns Car       object\n",
       "dtype: object"
      ]
     },
     "execution_count": 34,
     "metadata": {},
     "output_type": "execute_result"
    }
   ],
   "source": [
    "df.dtypes"
   ]
  },
  {
   "cell_type": "code",
   "execution_count": 35,
   "id": "279a2acf-8659-4754-8069-a9b66ea79445",
   "metadata": {},
   "outputs": [
    {
     "name": "stdout",
     "output_type": "stream",
     "text": [
      "<class 'pandas.core.frame.DataFrame'>\n",
      "RangeIndex: 30 entries, 0 to 29\n",
      "Data columns (total 6 columns):\n",
      " #   Column       Non-Null Count  Dtype \n",
      "---  ------       --------------  ----- \n",
      " 0   Name         30 non-null     object\n",
      " 1   Salary       30 non-null     int64 \n",
      " 2   Designation  30 non-null     object\n",
      " 3   Age          30 non-null     int64 \n",
      " 4   Gender       30 non-null     object\n",
      " 5   Owns Car     30 non-null     object\n",
      "dtypes: int64(2), object(4)\n",
      "memory usage: 1.5+ KB\n"
     ]
    }
   ],
   "source": [
    "df.info()"
   ]
  },
  {
   "cell_type": "code",
   "execution_count": 36,
   "id": "5334a129-31ac-42f9-a0d8-bb31d02b3e42",
   "metadata": {},
   "outputs": [
    {
     "data": {
      "text/html": [
       "<div>\n",
       "<style scoped>\n",
       "    .dataframe tbody tr th:only-of-type {\n",
       "        vertical-align: middle;\n",
       "    }\n",
       "\n",
       "    .dataframe tbody tr th {\n",
       "        vertical-align: top;\n",
       "    }\n",
       "\n",
       "    .dataframe thead th {\n",
       "        text-align: right;\n",
       "    }\n",
       "</style>\n",
       "<table border=\"1\" class=\"dataframe\">\n",
       "  <thead>\n",
       "    <tr style=\"text-align: right;\">\n",
       "      <th></th>\n",
       "      <th>Name</th>\n",
       "      <th>Salary</th>\n",
       "      <th>Designation</th>\n",
       "      <th>Age</th>\n",
       "      <th>Gender</th>\n",
       "      <th>Owns Car</th>\n",
       "    </tr>\n",
       "  </thead>\n",
       "  <tbody>\n",
       "    <tr>\n",
       "      <th>0</th>\n",
       "      <td>Claire</td>\n",
       "      <td>88962</td>\n",
       "      <td>Manager</td>\n",
       "      <td>35</td>\n",
       "      <td>Female</td>\n",
       "      <td>Yes</td>\n",
       "    </tr>\n",
       "    <tr>\n",
       "      <th>1</th>\n",
       "      <td>Darrin</td>\n",
       "      <td>67659</td>\n",
       "      <td>Team Lead</td>\n",
       "      <td>26</td>\n",
       "      <td>Male</td>\n",
       "      <td>No</td>\n",
       "    </tr>\n",
       "  </tbody>\n",
       "</table>\n",
       "</div>"
      ],
      "text/plain": [
       "     Name  Salary Designation  Age  Gender Owns Car\n",
       "0  Claire   88962     Manager   35  Female      Yes\n",
       "1  Darrin   67659   Team Lead   26    Male       No"
      ]
     },
     "execution_count": 36,
     "metadata": {},
     "output_type": "execute_result"
    }
   ],
   "source": [
    "df.head(2)"
   ]
  },
  {
   "cell_type": "code",
   "execution_count": 37,
   "id": "ac04e5c3-d5c0-4473-86eb-f25da2582187",
   "metadata": {},
   "outputs": [
    {
     "data": {
      "text/html": [
       "<div>\n",
       "<style scoped>\n",
       "    .dataframe tbody tr th:only-of-type {\n",
       "        vertical-align: middle;\n",
       "    }\n",
       "\n",
       "    .dataframe tbody tr th {\n",
       "        vertical-align: top;\n",
       "    }\n",
       "\n",
       "    .dataframe thead th {\n",
       "        text-align: right;\n",
       "    }\n",
       "</style>\n",
       "<table border=\"1\" class=\"dataframe\">\n",
       "  <thead>\n",
       "    <tr style=\"text-align: right;\">\n",
       "      <th></th>\n",
       "      <th>Name</th>\n",
       "      <th>Salary</th>\n",
       "      <th>Designation</th>\n",
       "      <th>Age</th>\n",
       "      <th>Gender</th>\n",
       "      <th>Owns Car</th>\n",
       "    </tr>\n",
       "  </thead>\n",
       "  <tbody>\n",
       "    <tr>\n",
       "      <th>28</th>\n",
       "      <td>Paul</td>\n",
       "      <td>34248</td>\n",
       "      <td>Team Lead</td>\n",
       "      <td>27</td>\n",
       "      <td>Male</td>\n",
       "      <td>Yes</td>\n",
       "    </tr>\n",
       "    <tr>\n",
       "      <th>29</th>\n",
       "      <td>Brendan</td>\n",
       "      <td>27416</td>\n",
       "      <td>Team Lead</td>\n",
       "      <td>30</td>\n",
       "      <td>Male</td>\n",
       "      <td>Yes</td>\n",
       "    </tr>\n",
       "  </tbody>\n",
       "</table>\n",
       "</div>"
      ],
      "text/plain": [
       "       Name  Salary Designation  Age Gender Owns Car\n",
       "28     Paul   34248   Team Lead   27   Male      Yes\n",
       "29  Brendan   27416   Team Lead   30   Male      Yes"
      ]
     },
     "execution_count": 37,
     "metadata": {},
     "output_type": "execute_result"
    }
   ],
   "source": [
    "df.tail(2)"
   ]
  },
  {
   "cell_type": "code",
   "execution_count": 52,
   "id": "37569d78-27fd-4f36-aa82-83f242ab7128",
   "metadata": {},
   "outputs": [
    {
     "data": {
      "text/plain": [
       "Index(['Name', 'Salary', 'Designation', 'Age', 'Gender', 'Owns Car'], dtype='object')"
      ]
     },
     "execution_count": 52,
     "metadata": {},
     "output_type": "execute_result"
    }
   ],
   "source": [
    "df.columns  # returns a sequence of headers"
   ]
  },
  {
   "cell_type": "code",
   "execution_count": 53,
   "id": "2244ceed-9787-4c60-8f10-a058be26d5ef",
   "metadata": {},
   "outputs": [
    {
     "data": {
      "text/plain": [
       "RangeIndex(start=0, stop=30, step=1)"
      ]
     },
     "execution_count": 53,
     "metadata": {},
     "output_type": "execute_result"
    }
   ],
   "source": [
    "df.index  # returns sequence of row label"
   ]
  },
  {
   "cell_type": "markdown",
   "id": "3cea20ed-e9ab-4e68-abdf-9fc188d910a8",
   "metadata": {},
   "source": [
    "## Read data from a file and perform data cleaning"
   ]
  },
  {
   "cell_type": "code",
   "execution_count": 54,
   "id": "16281bab-062f-4aa5-b980-2c28967eef26",
   "metadata": {},
   "outputs": [
    {
     "data": {
      "text/html": [
       "<div>\n",
       "<style scoped>\n",
       "    .dataframe tbody tr th:only-of-type {\n",
       "        vertical-align: middle;\n",
       "    }\n",
       "\n",
       "    .dataframe tbody tr th {\n",
       "        vertical-align: top;\n",
       "    }\n",
       "\n",
       "    .dataframe thead th {\n",
       "        text-align: right;\n",
       "    }\n",
       "</style>\n",
       "<table border=\"1\" class=\"dataframe\">\n",
       "  <thead>\n",
       "    <tr style=\"text-align: right;\">\n",
       "      <th></th>\n",
       "      <th>This is dummy data</th>\n",
       "      <th>Unnamed: 1</th>\n",
       "      <th>Unnamed: 2</th>\n",
       "      <th>Unnamed: 3</th>\n",
       "      <th>Unnamed: 4</th>\n",
       "      <th>Unnamed: 5</th>\n",
       "      <th>Unnamed: 6</th>\n",
       "      <th>Unnamed: 7</th>\n",
       "      <th>Unnamed: 8</th>\n",
       "    </tr>\n",
       "  </thead>\n",
       "  <tbody>\n",
       "    <tr>\n",
       "      <th>0</th>\n",
       "      <td>NaN</td>\n",
       "      <td>NaN</td>\n",
       "      <td>NaN</td>\n",
       "      <td>NaN</td>\n",
       "      <td>NaN</td>\n",
       "      <td>NaN</td>\n",
       "      <td>NaN</td>\n",
       "      <td>NaN</td>\n",
       "      <td>NaN</td>\n",
       "    </tr>\n",
       "    <tr>\n",
       "      <th>1</th>\n",
       "      <td>NaN</td>\n",
       "      <td>NaN</td>\n",
       "      <td>NaN</td>\n",
       "      <td>NaN</td>\n",
       "      <td>NaN</td>\n",
       "      <td>NaN</td>\n",
       "      <td>NaN</td>\n",
       "      <td>NaN</td>\n",
       "      <td>NaN</td>\n",
       "    </tr>\n",
       "    <tr>\n",
       "      <th>2</th>\n",
       "      <td>NaN</td>\n",
       "      <td>Date</td>\n",
       "      <td>Franchise</td>\n",
       "      <td>City</td>\n",
       "      <td>Product</td>\n",
       "      <td>Sales</td>\n",
       "      <td>Profit</td>\n",
       "      <td>Target Profit</td>\n",
       "      <td>Target Sales</td>\n",
       "    </tr>\n",
       "    <tr>\n",
       "      <th>3</th>\n",
       "      <td>NaN</td>\n",
       "      <td>1-Jan-21</td>\n",
       "      <td>M1</td>\n",
       "      <td>Mumbai</td>\n",
       "      <td>Amaretto</td>\n",
       "      <td>$219.00</td>\n",
       "      <td>$94.00</td>\n",
       "      <td>$100.00</td>\n",
       "      <td>$220.00</td>\n",
       "    </tr>\n",
       "    <tr>\n",
       "      <th>4</th>\n",
       "      <td>NaN</td>\n",
       "      <td>1-Feb-21</td>\n",
       "      <td>M1</td>\n",
       "      <td>Mumbai</td>\n",
       "      <td>Amaretto</td>\n",
       "      <td>$140.00</td>\n",
       "      <td>$34.00</td>\n",
       "      <td>$50.00</td>\n",
       "      <td>$140.00</td>\n",
       "    </tr>\n",
       "  </tbody>\n",
       "</table>\n",
       "</div>"
      ],
      "text/plain": [
       "   This is dummy data Unnamed: 1 Unnamed: 2 Unnamed: 3 Unnamed: 4 Unnamed: 5  \\\n",
       "0                 NaN        NaN        NaN        NaN        NaN        NaN   \n",
       "1                 NaN        NaN        NaN        NaN        NaN        NaN   \n",
       "2                 NaN       Date  Franchise       City    Product      Sales   \n",
       "3                 NaN   1-Jan-21         M1     Mumbai   Amaretto    $219.00   \n",
       "4                 NaN   1-Feb-21         M1     Mumbai   Amaretto    $140.00   \n",
       "\n",
       "  Unnamed: 6     Unnamed: 7    Unnamed: 8  \n",
       "0        NaN            NaN           NaN  \n",
       "1        NaN            NaN           NaN  \n",
       "2     Profit  Target Profit  Target Sales  \n",
       "3     $94.00        $100.00       $220.00  \n",
       "4     $34.00         $50.00       $140.00  "
      ]
     },
     "execution_count": 54,
     "metadata": {},
     "output_type": "execute_result"
    }
   ],
   "source": [
    "import numpy as np\n",
    "import pandas as pd\n",
    "import matplotlib.pyplot as plt\n",
    "import seaborn as sns\n",
    "\n",
    "plt.rcParams[\"figure.figsize\"] = (4, 3)\n",
    "\n",
    "df = pd.read_csv(r\"./datasets/coffee_sales.csv\")\n",
    "df.head()"
   ]
  },
  {
   "cell_type": "markdown",
   "id": "8613e14f-924a-41fb-9ca3-8ed56c85c78f",
   "metadata": {},
   "source": [
    "###### Approach 1"
   ]
  },
  {
   "cell_type": "code",
   "execution_count": 58,
   "id": "58427508-ef9b-4c2d-b6a5-773fcac11ae7",
   "metadata": {},
   "outputs": [
    {
     "data": {
      "text/html": [
       "<div>\n",
       "<style scoped>\n",
       "    .dataframe tbody tr th:only-of-type {\n",
       "        vertical-align: middle;\n",
       "    }\n",
       "\n",
       "    .dataframe tbody tr th {\n",
       "        vertical-align: top;\n",
       "    }\n",
       "\n",
       "    .dataframe thead th {\n",
       "        text-align: right;\n",
       "    }\n",
       "</style>\n",
       "<table border=\"1\" class=\"dataframe\">\n",
       "  <thead>\n",
       "    <tr style=\"text-align: right;\">\n",
       "      <th></th>\n",
       "      <th>Date</th>\n",
       "      <th>Franchise</th>\n",
       "      <th>City</th>\n",
       "      <th>Product</th>\n",
       "      <th>Sales</th>\n",
       "      <th>Profit</th>\n",
       "      <th>Target Profit</th>\n",
       "      <th>Target Sales</th>\n",
       "    </tr>\n",
       "  </thead>\n",
       "  <tbody>\n",
       "    <tr>\n",
       "      <th>0</th>\n",
       "      <td>1-Jan-21</td>\n",
       "      <td>M1</td>\n",
       "      <td>Mumbai</td>\n",
       "      <td>Amaretto</td>\n",
       "      <td>$219.00</td>\n",
       "      <td>$94.00</td>\n",
       "      <td>$100.00</td>\n",
       "      <td>$220.00</td>\n",
       "    </tr>\n",
       "    <tr>\n",
       "      <th>1</th>\n",
       "      <td>1-Feb-21</td>\n",
       "      <td>M1</td>\n",
       "      <td>Mumbai</td>\n",
       "      <td>Amaretto</td>\n",
       "      <td>$140.00</td>\n",
       "      <td>$34.00</td>\n",
       "      <td>$50.00</td>\n",
       "      <td>$140.00</td>\n",
       "    </tr>\n",
       "    <tr>\n",
       "      <th>2</th>\n",
       "      <td>1-Mar-21</td>\n",
       "      <td>M1</td>\n",
       "      <td>Mumbai</td>\n",
       "      <td>Amaretto</td>\n",
       "      <td>$145.00</td>\n",
       "      <td>-$2.00</td>\n",
       "      <td>$30.00</td>\n",
       "      <td>$180.00</td>\n",
       "    </tr>\n",
       "    <tr>\n",
       "      <th>3</th>\n",
       "      <td>1-Apr-21</td>\n",
       "      <td>M1</td>\n",
       "      <td>Mumbai</td>\n",
       "      <td>Amaretto</td>\n",
       "      <td>$45.00</td>\n",
       "      <td>$11.00</td>\n",
       "      <td>$20.00</td>\n",
       "      <td>$40.00</td>\n",
       "    </tr>\n",
       "    <tr>\n",
       "      <th>4</th>\n",
       "      <td>1-May-21</td>\n",
       "      <td>M1</td>\n",
       "      <td>Mumbai</td>\n",
       "      <td>Amaretto</td>\n",
       "      <td>$120.00</td>\n",
       "      <td>$13.00</td>\n",
       "      <td>$30.00</td>\n",
       "      <td>$120.00</td>\n",
       "    </tr>\n",
       "  </tbody>\n",
       "</table>\n",
       "</div>"
      ],
      "text/plain": [
       "       Date Franchise    City   Product    Sales  Profit Target Profit  \\\n",
       "0  1-Jan-21        M1  Mumbai  Amaretto  $219.00  $94.00       $100.00   \n",
       "1  1-Feb-21        M1  Mumbai  Amaretto  $140.00  $34.00        $50.00   \n",
       "2  1-Mar-21        M1  Mumbai  Amaretto  $145.00  -$2.00        $30.00   \n",
       "3  1-Apr-21        M1  Mumbai  Amaretto   $45.00  $11.00        $20.00   \n",
       "4  1-May-21        M1  Mumbai  Amaretto  $120.00  $13.00        $30.00   \n",
       "\n",
       "  Target Sales  \n",
       "0      $220.00  \n",
       "1      $140.00  \n",
       "2      $180.00  \n",
       "3       $40.00  \n",
       "4      $120.00  "
      ]
     },
     "execution_count": 58,
     "metadata": {},
     "output_type": "execute_result"
    }
   ],
   "source": [
    "df = pd.read_csv(r\"./datasets/coffee_sales.csv\", header=3, usecols = range(1, 9))\n",
    "df.head()"
   ]
  },
  {
   "cell_type": "code",
   "execution_count": null,
   "id": "0e329c91-3026-466e-a342-7320605ee531",
   "metadata": {},
   "outputs": [],
   "source": []
  },
  {
   "cell_type": "markdown",
   "id": "a83ae5e9-2a22-444b-af3d-7a2b65127999",
   "metadata": {},
   "source": [
    "#### Check for null values\n",
    "`df.isna()` - Detect missing values. Return a boolean same-sized object indicating if the values are NA."
   ]
  },
  {
   "cell_type": "code",
   "execution_count": 61,
   "id": "1bbbf38b-1c24-4006-a334-a302954326c4",
   "metadata": {},
   "outputs": [
    {
     "data": {
      "text/plain": [
       "Unnamed: 0       4248\n",
       "Date                0\n",
       "Franchise           0\n",
       "City                0\n",
       "Product             0\n",
       "Sales               0\n",
       "Profit              0\n",
       "Target Profit     188\n",
       "Target Sales        0\n",
       "dtype: int64"
      ]
     },
     "execution_count": 61,
     "metadata": {},
     "output_type": "execute_result"
    }
   ],
   "source": [
    "df.isna().sum()  # returns no of null values in each column"
   ]
  },
  {
   "cell_type": "code",
   "execution_count": 62,
   "id": "f796dc08-7e5d-43b5-adeb-9305b80d7274",
   "metadata": {},
   "outputs": [
    {
     "data": {
      "text/plain": [
       "Unnamed: 0        True\n",
       "Date             False\n",
       "Franchise        False\n",
       "City             False\n",
       "Product          False\n",
       "Sales            False\n",
       "Profit           False\n",
       "Target Profit     True\n",
       "Target Sales     False\n",
       "dtype: bool"
      ]
     },
     "execution_count": 62,
     "metadata": {},
     "output_type": "execute_result"
    }
   ],
   "source": [
    "df.isna().any() # returns true for a column if it contains atleast 1 null value"
   ]
  },
  {
   "cell_type": "code",
   "execution_count": 63,
   "id": "674afaaa-aa3d-4673-87d2-4db3eaa3e167",
   "metadata": {},
   "outputs": [
    {
     "data": {
      "text/plain": [
       "Unnamed: 0        True\n",
       "Date             False\n",
       "Franchise        False\n",
       "City             False\n",
       "Product          False\n",
       "Sales            False\n",
       "Profit           False\n",
       "Target Profit    False\n",
       "Target Sales     False\n",
       "dtype: bool"
      ]
     },
     "execution_count": 63,
     "metadata": {},
     "output_type": "execute_result"
    }
   ],
   "source": [
    "df.isna().all() # returns true for a column if it contains atleast 1 null value"
   ]
  },
  {
   "cell_type": "markdown",
   "id": "d61d1cf0-8b68-4104-8551-fa55eb5623c7",
   "metadata": {},
   "source": [
    "#### Remove/Replace nulls\n",
    "\n",
    "- `df.fillna(value=None, inplace=False)` - Fill NA/NaN values using the specified method.\n",
    "- `df.dropna(axis = 0, how = \"any\", inplace = False)`\n",
    "    - axis 0 for row or 1 for column\n",
    "    - how - {any or all}"
   ]
  },
  {
   "cell_type": "code",
   "execution_count": 67,
   "id": "ea82eab4-8cae-4d10-8fe2-6b4f9cb429d9",
   "metadata": {},
   "outputs": [
    {
     "data": {
      "text/html": [
       "<div>\n",
       "<style scoped>\n",
       "    .dataframe tbody tr th:only-of-type {\n",
       "        vertical-align: middle;\n",
       "    }\n",
       "\n",
       "    .dataframe tbody tr th {\n",
       "        vertical-align: top;\n",
       "    }\n",
       "\n",
       "    .dataframe thead th {\n",
       "        text-align: right;\n",
       "    }\n",
       "</style>\n",
       "<table border=\"1\" class=\"dataframe\">\n",
       "  <thead>\n",
       "    <tr style=\"text-align: right;\">\n",
       "      <th></th>\n",
       "      <th>Date</th>\n",
       "      <th>Franchise</th>\n",
       "      <th>City</th>\n",
       "      <th>Product</th>\n",
       "      <th>Sales</th>\n",
       "      <th>Profit</th>\n",
       "      <th>Target Profit</th>\n",
       "      <th>Target Sales</th>\n",
       "    </tr>\n",
       "  </thead>\n",
       "  <tbody>\n",
       "    <tr>\n",
       "      <th>0</th>\n",
       "      <td>1-Jan-21</td>\n",
       "      <td>M1</td>\n",
       "      <td>Mumbai</td>\n",
       "      <td>Amaretto</td>\n",
       "      <td>$219.00</td>\n",
       "      <td>$94.00</td>\n",
       "      <td>$100.00</td>\n",
       "      <td>$220.00</td>\n",
       "    </tr>\n",
       "    <tr>\n",
       "      <th>1</th>\n",
       "      <td>1-Feb-21</td>\n",
       "      <td>M1</td>\n",
       "      <td>Mumbai</td>\n",
       "      <td>Amaretto</td>\n",
       "      <td>$140.00</td>\n",
       "      <td>$34.00</td>\n",
       "      <td>$50.00</td>\n",
       "      <td>$140.00</td>\n",
       "    </tr>\n",
       "    <tr>\n",
       "      <th>2</th>\n",
       "      <td>1-Mar-21</td>\n",
       "      <td>M1</td>\n",
       "      <td>Mumbai</td>\n",
       "      <td>Amaretto</td>\n",
       "      <td>$145.00</td>\n",
       "      <td>-$2.00</td>\n",
       "      <td>$30.00</td>\n",
       "      <td>$180.00</td>\n",
       "    </tr>\n",
       "    <tr>\n",
       "      <th>3</th>\n",
       "      <td>1-Apr-21</td>\n",
       "      <td>M1</td>\n",
       "      <td>Mumbai</td>\n",
       "      <td>Amaretto</td>\n",
       "      <td>$45.00</td>\n",
       "      <td>$11.00</td>\n",
       "      <td>$20.00</td>\n",
       "      <td>$40.00</td>\n",
       "    </tr>\n",
       "    <tr>\n",
       "      <th>4</th>\n",
       "      <td>1-May-21</td>\n",
       "      <td>M1</td>\n",
       "      <td>Mumbai</td>\n",
       "      <td>Amaretto</td>\n",
       "      <td>$120.00</td>\n",
       "      <td>$13.00</td>\n",
       "      <td>$30.00</td>\n",
       "      <td>$120.00</td>\n",
       "    </tr>\n",
       "    <tr>\n",
       "      <th>...</th>\n",
       "      <td>...</td>\n",
       "      <td>...</td>\n",
       "      <td>...</td>\n",
       "      <td>...</td>\n",
       "      <td>...</td>\n",
       "      <td>...</td>\n",
       "      <td>...</td>\n",
       "      <td>...</td>\n",
       "    </tr>\n",
       "    <tr>\n",
       "      <th>4243</th>\n",
       "      <td>1-Aug-26</td>\n",
       "      <td>M1</td>\n",
       "      <td>Mumbai</td>\n",
       "      <td>Regular Espresso</td>\n",
       "      <td>$719.00</td>\n",
       "      <td>$565.00</td>\n",
       "      <td>$390.00</td>\n",
       "      <td>$660.00</td>\n",
       "    </tr>\n",
       "    <tr>\n",
       "      <th>4244</th>\n",
       "      <td>1-Sep-26</td>\n",
       "      <td>M1</td>\n",
       "      <td>Mumbai</td>\n",
       "      <td>Regular Espresso</td>\n",
       "      <td>$81.00</td>\n",
       "      <td>-$4.00</td>\n",
       "      <td>$10.00</td>\n",
       "      <td>$70.00</td>\n",
       "    </tr>\n",
       "    <tr>\n",
       "      <th>4245</th>\n",
       "      <td>1-Oct-26</td>\n",
       "      <td>M1</td>\n",
       "      <td>Mumbai</td>\n",
       "      <td>Regular Espresso</td>\n",
       "      <td>$326.00</td>\n",
       "      <td>$129.00</td>\n",
       "      <td>$80.00</td>\n",
       "      <td>$290.00</td>\n",
       "    </tr>\n",
       "    <tr>\n",
       "      <th>4246</th>\n",
       "      <td>1-Nov-26</td>\n",
       "      <td>M1</td>\n",
       "      <td>Mumbai</td>\n",
       "      <td>Regular Espresso</td>\n",
       "      <td>$700.00</td>\n",
       "      <td>$463.00</td>\n",
       "      <td>$320.00</td>\n",
       "      <td>$640.00</td>\n",
       "    </tr>\n",
       "    <tr>\n",
       "      <th>4247</th>\n",
       "      <td>1-Dec-26</td>\n",
       "      <td>M1</td>\n",
       "      <td>Mumbai</td>\n",
       "      <td>Regular Espresso</td>\n",
       "      <td>$48.00</td>\n",
       "      <td>-$24.00</td>\n",
       "      <td>$10.00</td>\n",
       "      <td>$40.00</td>\n",
       "    </tr>\n",
       "  </tbody>\n",
       "</table>\n",
       "<p>4248 rows × 8 columns</p>\n",
       "</div>"
      ],
      "text/plain": [
       "          Date Franchise    City           Product    Sales   Profit  \\\n",
       "0     1-Jan-21        M1  Mumbai          Amaretto  $219.00   $94.00   \n",
       "1     1-Feb-21        M1  Mumbai          Amaretto  $140.00   $34.00   \n",
       "2     1-Mar-21        M1  Mumbai          Amaretto  $145.00   -$2.00   \n",
       "3     1-Apr-21        M1  Mumbai          Amaretto   $45.00   $11.00   \n",
       "4     1-May-21        M1  Mumbai          Amaretto  $120.00   $13.00   \n",
       "...        ...       ...     ...               ...      ...      ...   \n",
       "4243  1-Aug-26        M1  Mumbai  Regular Espresso  $719.00  $565.00   \n",
       "4244  1-Sep-26        M1  Mumbai  Regular Espresso   $81.00   -$4.00   \n",
       "4245  1-Oct-26        M1  Mumbai  Regular Espresso  $326.00  $129.00   \n",
       "4246  1-Nov-26        M1  Mumbai  Regular Espresso  $700.00  $463.00   \n",
       "4247  1-Dec-26        M1  Mumbai  Regular Espresso   $48.00  -$24.00   \n",
       "\n",
       "     Target Profit Target Sales  \n",
       "0          $100.00      $220.00  \n",
       "1           $50.00      $140.00  \n",
       "2           $30.00      $180.00  \n",
       "3           $20.00       $40.00  \n",
       "4           $30.00      $120.00  \n",
       "...            ...          ...  \n",
       "4243       $390.00      $660.00  \n",
       "4244        $10.00       $70.00  \n",
       "4245        $80.00      $290.00  \n",
       "4246       $320.00      $640.00  \n",
       "4247        $10.00       $40.00  \n",
       "\n",
       "[4248 rows x 8 columns]"
      ]
     },
     "execution_count": 67,
     "metadata": {},
     "output_type": "execute_result"
    }
   ],
   "source": [
    "df.dropna(axis = 1, how = \"all\")"
   ]
  },
  {
   "cell_type": "code",
   "execution_count": 75,
   "id": "578ca482-b53d-4024-990d-795870e06233",
   "metadata": {},
   "outputs": [
    {
     "name": "stderr",
     "output_type": "stream",
     "text": [
      "C:\\Users\\vaide\\AppData\\Local\\Temp\\ipykernel_10640\\501084714.py:1: FutureWarning: A value is trying to be set on a copy of a DataFrame or Series through chained assignment using an inplace method.\n",
      "The behavior will change in pandas 3.0. This inplace method will never work because the intermediate object on which we are setting values always behaves as a copy.\n",
      "\n",
      "For example, when doing 'df[col].method(value, inplace=True)', try using 'df.method({col: value}, inplace=True)' or df[col] = df[col].method(value) instead, to perform the operation inplace on the original object.\n",
      "\n",
      "\n",
      "  df[\"Target Profit\"].fillna(0, inplace=True)\n"
     ]
    }
   ],
   "source": [
    "df[\"Target Profit\"].fillna(0, inplace=True)"
   ]
  },
  {
   "cell_type": "markdown",
   "id": "e516e07c-ff1c-4a72-8371-51563207b18d",
   "metadata": {},
   "source": [
    "##### Note - \n",
    "This is older syntax New syntax to be followed is - `df.method({col: value}, inplace=True)`"
   ]
  },
  {
   "cell_type": "code",
   "execution_count": 76,
   "id": "cc9c643b-4cc2-4fc1-aec3-893c1a729eca",
   "metadata": {},
   "outputs": [],
   "source": [
    "df.fillna({\"Target Profit\" : 0}, inplace=True)"
   ]
  },
  {
   "cell_type": "markdown",
   "id": "ec21adc6-1f7a-4cc3-82ff-e7281e61ba7d",
   "metadata": {},
   "source": [
    "#### Handing duplicates"
   ]
  },
  {
   "cell_type": "code",
   "execution_count": null,
   "id": "05fb0d70-d27c-47d0-8e16-d8b4246848db",
   "metadata": {},
   "outputs": [],
   "source": [
    "df.duplicated().any()"
   ]
  },
  {
   "cell_type": "code",
   "execution_count": null,
   "id": "7a037317-649a-4454-b36d-e50be048df1a",
   "metadata": {},
   "outputs": [],
   "source": [
    "df.drop_duplicates()"
   ]
  },
  {
   "cell_type": "markdown",
   "id": "5fe01230-0df8-49b1-b6f7-87b507de2289",
   "metadata": {},
   "source": [
    "#### Data Cleaning"
   ]
  },
  {
   "cell_type": "markdown",
   "id": "654762f8-f36e-4ef6-87c5-b37d27a80cd2",
   "metadata": {},
   "source": [
    "###### Ex. Convert all numeric column to float"
   ]
  },
  {
   "cell_type": "code",
   "execution_count": null,
   "id": "545f97fd-c59d-479a-871a-05828f5ae612",
   "metadata": {},
   "outputs": [],
   "source": [
    "# using apply() - takes function object as argument\n",
    "func = lambda strg : float(strg.replace(\"$\", \"\"))\n",
    "df.Sales.apply(func)"
   ]
  },
  {
   "cell_type": "code",
   "execution_count": null,
   "id": "35622557-aa35-450a-86f4-8948b9fafeca",
   "metadata": {},
   "outputs": [],
   "source": [
    "df.Sales.str.replace(\"$\", \"\").astype(float)"
   ]
  },
  {
   "cell_type": "code",
   "execution_count": 84,
   "id": "4e08200f-895a-43a0-baca-02f148e01718",
   "metadata": {},
   "outputs": [
    {
     "data": {
      "text/plain": [
       "'-1200'"
      ]
     },
     "execution_count": 84,
     "metadata": {},
     "output_type": "execute_result"
    }
   ],
   "source": [
    "# Example - \n",
    "profit = \"($1,200)\"  # -1200\n",
    "str.maketrans(\"(\", \"-\", \"$,)\")  # old, new, remove\n",
    "profit.translate(str.maketrans(\"(\", \"-\", \"$,)\"))"
   ]
  },
  {
   "cell_type": "code",
   "execution_count": 133,
   "id": "e321c1d7-2f39-4a58-b483-6e09ae1e92f4",
   "metadata": {},
   "outputs": [
    {
     "data": {
      "text/plain": [
       "{40: 45, 36: None, 44: None, 41: None}"
      ]
     },
     "execution_count": 133,
     "metadata": {},
     "output_type": "execute_result"
    }
   ],
   "source": [
    "str.maketrans(\"(\", \"-\", \"$,)\")"
   ]
  },
  {
   "cell_type": "code",
   "execution_count": 134,
   "id": "1d5a5504-d261-4e51-8acb-3a1dbdb6a8f1",
   "metadata": {},
   "outputs": [
    {
     "data": {
      "text/plain": [
       "'s*ng*p*r*'"
      ]
     },
     "execution_count": 134,
     "metadata": {},
     "output_type": "execute_result"
    }
   ],
   "source": [
    "strg = \"singapore\"\n",
    "strg.translate(str.maketrans(\"aeiou\", \"*****\"))"
   ]
  },
  {
   "cell_type": "code",
   "execution_count": 136,
   "id": "08593c33-7d5d-48dd-870a-bb7331b45c79",
   "metadata": {},
   "outputs": [
    {
     "data": {
      "text/plain": [
       "'s!ng@p0r3c!ty'"
      ]
     },
     "execution_count": 136,
     "metadata": {},
     "output_type": "execute_result"
    }
   ],
   "source": [
    "strg = \"singapore city\"\n",
    "strg.translate(str.maketrans(\"aeiou\", \"@3!0^\", \" \"))"
   ]
  },
  {
   "cell_type": "code",
   "execution_count": null,
   "id": "acc07326-ff25-4573-89e5-bd2ba5fa717f",
   "metadata": {},
   "outputs": [],
   "source": []
  },
  {
   "cell_type": "code",
   "execution_count": 137,
   "id": "af33554d-ecfb-4248-b449-f59c4a1ec781",
   "metadata": {},
   "outputs": [
    {
     "name": "stdout",
     "output_type": "stream",
     "text": [
      "Help on built-in function maketrans:\n",
      "\n",
      "maketrans(...)\n",
      "    Return a translation table usable for str.translate().\n",
      "\n",
      "    If there is only one argument, it must be a dictionary mapping Unicode\n",
      "    ordinals (integers) or characters to Unicode ordinals, strings or None.\n",
      "    Character keys will be then converted to ordinals.\n",
      "    If there are two arguments, they must be strings of equal length, and\n",
      "    in the resulting dictionary, each character in x will be mapped to the\n",
      "    character at the same position in y. If there is a third argument, it\n",
      "    must be a string, whose characters will be mapped to None in the result.\n",
      "\n"
     ]
    }
   ],
   "source": [
    "help(str.maketrans)"
   ]
  },
  {
   "cell_type": "code",
   "execution_count": 132,
   "id": "31f3f356-35e0-4366-b14d-4aeddfb8373a",
   "metadata": {},
   "outputs": [
    {
     "data": {
      "text/plain": [
       "{36: None, 44: None}"
      ]
     },
     "execution_count": 132,
     "metadata": {},
     "output_type": "execute_result"
    }
   ],
   "source": [
    "str.maketrans(\"\", \"\", \"$,\")"
   ]
  },
  {
   "cell_type": "code",
   "execution_count": 91,
   "id": "dca10d97-d420-4cde-92c7-bec1f1cfa51e",
   "metadata": {},
   "outputs": [],
   "source": [
    "trans_obj = str.maketrans(\"\", \"\", \"$,\")\n",
    "df.Sales = df.Sales.str.translate(trans_obj).astype(float)\n",
    "df.Profit = df.Profit.str.translate(trans_obj).astype(float)\n",
    "df[\"Target Profit\"] = df[\"Target Profit\"].str.translate(trans_obj).astype(float)\n",
    "df[\"Target Sales\"] = df[\"Target Sales\"].str.translate(trans_obj).astype(float)"
   ]
  },
  {
   "cell_type": "code",
   "execution_count": 92,
   "id": "9ce6dac2-c4cb-4810-80e3-61a1217b5181",
   "metadata": {},
   "outputs": [
    {
     "data": {
      "text/html": [
       "<div>\n",
       "<style scoped>\n",
       "    .dataframe tbody tr th:only-of-type {\n",
       "        vertical-align: middle;\n",
       "    }\n",
       "\n",
       "    .dataframe tbody tr th {\n",
       "        vertical-align: top;\n",
       "    }\n",
       "\n",
       "    .dataframe thead th {\n",
       "        text-align: right;\n",
       "    }\n",
       "</style>\n",
       "<table border=\"1\" class=\"dataframe\">\n",
       "  <thead>\n",
       "    <tr style=\"text-align: right;\">\n",
       "      <th></th>\n",
       "      <th>Date</th>\n",
       "      <th>Franchise</th>\n",
       "      <th>City</th>\n",
       "      <th>Product</th>\n",
       "      <th>Sales</th>\n",
       "      <th>Profit</th>\n",
       "      <th>Target Profit</th>\n",
       "      <th>Target Sales</th>\n",
       "    </tr>\n",
       "  </thead>\n",
       "  <tbody>\n",
       "    <tr>\n",
       "      <th>0</th>\n",
       "      <td>1-Jan-21</td>\n",
       "      <td>M1</td>\n",
       "      <td>Mumbai</td>\n",
       "      <td>Amaretto</td>\n",
       "      <td>219.0</td>\n",
       "      <td>94.0</td>\n",
       "      <td>100.0</td>\n",
       "      <td>220.0</td>\n",
       "    </tr>\n",
       "    <tr>\n",
       "      <th>1</th>\n",
       "      <td>1-Feb-21</td>\n",
       "      <td>M1</td>\n",
       "      <td>Mumbai</td>\n",
       "      <td>Amaretto</td>\n",
       "      <td>140.0</td>\n",
       "      <td>34.0</td>\n",
       "      <td>50.0</td>\n",
       "      <td>140.0</td>\n",
       "    </tr>\n",
       "    <tr>\n",
       "      <th>2</th>\n",
       "      <td>1-Mar-21</td>\n",
       "      <td>M1</td>\n",
       "      <td>Mumbai</td>\n",
       "      <td>Amaretto</td>\n",
       "      <td>145.0</td>\n",
       "      <td>-2.0</td>\n",
       "      <td>30.0</td>\n",
       "      <td>180.0</td>\n",
       "    </tr>\n",
       "    <tr>\n",
       "      <th>3</th>\n",
       "      <td>1-Apr-21</td>\n",
       "      <td>M1</td>\n",
       "      <td>Mumbai</td>\n",
       "      <td>Amaretto</td>\n",
       "      <td>45.0</td>\n",
       "      <td>11.0</td>\n",
       "      <td>20.0</td>\n",
       "      <td>40.0</td>\n",
       "    </tr>\n",
       "    <tr>\n",
       "      <th>4</th>\n",
       "      <td>1-May-21</td>\n",
       "      <td>M1</td>\n",
       "      <td>Mumbai</td>\n",
       "      <td>Amaretto</td>\n",
       "      <td>120.0</td>\n",
       "      <td>13.0</td>\n",
       "      <td>30.0</td>\n",
       "      <td>120.0</td>\n",
       "    </tr>\n",
       "  </tbody>\n",
       "</table>\n",
       "</div>"
      ],
      "text/plain": [
       "       Date Franchise    City   Product  Sales  Profit  Target Profit  \\\n",
       "0  1-Jan-21        M1  Mumbai  Amaretto  219.0    94.0          100.0   \n",
       "1  1-Feb-21        M1  Mumbai  Amaretto  140.0    34.0           50.0   \n",
       "2  1-Mar-21        M1  Mumbai  Amaretto  145.0    -2.0           30.0   \n",
       "3  1-Apr-21        M1  Mumbai  Amaretto   45.0    11.0           20.0   \n",
       "4  1-May-21        M1  Mumbai  Amaretto  120.0    13.0           30.0   \n",
       "\n",
       "   Target Sales  \n",
       "0         220.0  \n",
       "1         140.0  \n",
       "2         180.0  \n",
       "3          40.0  \n",
       "4         120.0  "
      ]
     },
     "execution_count": 92,
     "metadata": {},
     "output_type": "execute_result"
    }
   ],
   "source": [
    "df.head()"
   ]
  },
  {
   "cell_type": "markdown",
   "id": "ea049b69-4eba-4e44-8638-2f0169a22793",
   "metadata": {},
   "source": [
    "#### Add Column by calculation to the dataframe"
   ]
  },
  {
   "cell_type": "markdown",
   "id": "116ad729-5965-4f87-9cf1-fc62844d5af7",
   "metadata": {},
   "source": [
    "###### Ex. Check the status of target sales and add it to the dataframe as a new column"
   ]
  },
  {
   "cell_type": "code",
   "execution_count": 94,
   "id": "a9c4f273-e478-42fe-81fa-bd06cbfeab9b",
   "metadata": {},
   "outputs": [
    {
     "data": {
      "text/html": [
       "<div>\n",
       "<style scoped>\n",
       "    .dataframe tbody tr th:only-of-type {\n",
       "        vertical-align: middle;\n",
       "    }\n",
       "\n",
       "    .dataframe tbody tr th {\n",
       "        vertical-align: top;\n",
       "    }\n",
       "\n",
       "    .dataframe thead th {\n",
       "        text-align: right;\n",
       "    }\n",
       "</style>\n",
       "<table border=\"1\" class=\"dataframe\">\n",
       "  <thead>\n",
       "    <tr style=\"text-align: right;\">\n",
       "      <th></th>\n",
       "      <th>Date</th>\n",
       "      <th>Franchise</th>\n",
       "      <th>City</th>\n",
       "      <th>Product</th>\n",
       "      <th>Sales</th>\n",
       "      <th>Profit</th>\n",
       "      <th>Target Profit</th>\n",
       "      <th>Target Sales</th>\n",
       "      <th>Sales Target Status</th>\n",
       "    </tr>\n",
       "  </thead>\n",
       "  <tbody>\n",
       "    <tr>\n",
       "      <th>0</th>\n",
       "      <td>1-Jan-21</td>\n",
       "      <td>M1</td>\n",
       "      <td>Mumbai</td>\n",
       "      <td>Amaretto</td>\n",
       "      <td>219.0</td>\n",
       "      <td>94.0</td>\n",
       "      <td>100.0</td>\n",
       "      <td>220.0</td>\n",
       "      <td>Not Achieved</td>\n",
       "    </tr>\n",
       "    <tr>\n",
       "      <th>1</th>\n",
       "      <td>1-Feb-21</td>\n",
       "      <td>M1</td>\n",
       "      <td>Mumbai</td>\n",
       "      <td>Amaretto</td>\n",
       "      <td>140.0</td>\n",
       "      <td>34.0</td>\n",
       "      <td>50.0</td>\n",
       "      <td>140.0</td>\n",
       "      <td>Achieved</td>\n",
       "    </tr>\n",
       "    <tr>\n",
       "      <th>2</th>\n",
       "      <td>1-Mar-21</td>\n",
       "      <td>M1</td>\n",
       "      <td>Mumbai</td>\n",
       "      <td>Amaretto</td>\n",
       "      <td>145.0</td>\n",
       "      <td>-2.0</td>\n",
       "      <td>30.0</td>\n",
       "      <td>180.0</td>\n",
       "      <td>Not Achieved</td>\n",
       "    </tr>\n",
       "  </tbody>\n",
       "</table>\n",
       "</div>"
      ],
      "text/plain": [
       "       Date Franchise    City   Product  Sales  Profit  Target Profit  \\\n",
       "0  1-Jan-21        M1  Mumbai  Amaretto  219.0    94.0          100.0   \n",
       "1  1-Feb-21        M1  Mumbai  Amaretto  140.0    34.0           50.0   \n",
       "2  1-Mar-21        M1  Mumbai  Amaretto  145.0    -2.0           30.0   \n",
       "\n",
       "   Target Sales Sales Target Status  \n",
       "0         220.0        Not Achieved  \n",
       "1         140.0            Achieved  \n",
       "2         180.0        Not Achieved  "
      ]
     },
     "execution_count": 94,
     "metadata": {},
     "output_type": "execute_result"
    }
   ],
   "source": [
    "df[\"Sales Target Status\"] = np.where(df.Sales >= df[\"Target Sales\"], \"Achieved\", \"Not Achieved\")\n",
    "df.head(3)"
   ]
  },
  {
   "cell_type": "markdown",
   "id": "f4e45f30-7a28-41d3-8b63-ae8a711541bc",
   "metadata": {},
   "source": [
    "#### Working with date column"
   ]
  },
  {
   "cell_type": "markdown",
   "id": "0f327335-7d8e-4a5f-ba31-9cc8ef567faf",
   "metadata": {},
   "source": [
    "###### Ex. Convert date column to date type"
   ]
  },
  {
   "cell_type": "code",
   "execution_count": 98,
   "id": "a582d709-beeb-452b-a940-688d039b0751",
   "metadata": {},
   "outputs": [
    {
     "data": {
      "text/html": [
       "<div>\n",
       "<style scoped>\n",
       "    .dataframe tbody tr th:only-of-type {\n",
       "        vertical-align: middle;\n",
       "    }\n",
       "\n",
       "    .dataframe tbody tr th {\n",
       "        vertical-align: top;\n",
       "    }\n",
       "\n",
       "    .dataframe thead th {\n",
       "        text-align: right;\n",
       "    }\n",
       "</style>\n",
       "<table border=\"1\" class=\"dataframe\">\n",
       "  <thead>\n",
       "    <tr style=\"text-align: right;\">\n",
       "      <th></th>\n",
       "      <th>Date</th>\n",
       "      <th>Franchise</th>\n",
       "      <th>City</th>\n",
       "      <th>Product</th>\n",
       "      <th>Sales</th>\n",
       "      <th>Profit</th>\n",
       "      <th>Target Profit</th>\n",
       "      <th>Target Sales</th>\n",
       "      <th>Sales Target Status</th>\n",
       "    </tr>\n",
       "  </thead>\n",
       "  <tbody>\n",
       "    <tr>\n",
       "      <th>0</th>\n",
       "      <td>2021-01-01</td>\n",
       "      <td>M1</td>\n",
       "      <td>Mumbai</td>\n",
       "      <td>Amaretto</td>\n",
       "      <td>219.0</td>\n",
       "      <td>94.0</td>\n",
       "      <td>100.0</td>\n",
       "      <td>220.0</td>\n",
       "      <td>Not Achieved</td>\n",
       "    </tr>\n",
       "    <tr>\n",
       "      <th>1</th>\n",
       "      <td>2021-02-01</td>\n",
       "      <td>M1</td>\n",
       "      <td>Mumbai</td>\n",
       "      <td>Amaretto</td>\n",
       "      <td>140.0</td>\n",
       "      <td>34.0</td>\n",
       "      <td>50.0</td>\n",
       "      <td>140.0</td>\n",
       "      <td>Achieved</td>\n",
       "    </tr>\n",
       "  </tbody>\n",
       "</table>\n",
       "</div>"
      ],
      "text/plain": [
       "        Date Franchise    City   Product  Sales  Profit  Target Profit  \\\n",
       "0 2021-01-01        M1  Mumbai  Amaretto  219.0    94.0          100.0   \n",
       "1 2021-02-01        M1  Mumbai  Amaretto  140.0    34.0           50.0   \n",
       "\n",
       "   Target Sales Sales Target Status  \n",
       "0         220.0        Not Achieved  \n",
       "1         140.0            Achieved  "
      ]
     },
     "execution_count": 98,
     "metadata": {},
     "output_type": "execute_result"
    }
   ],
   "source": [
    "df.Date = pd.to_datetime(df.Date, format = \"mixed\")\n",
    "df.head(2)"
   ]
  },
  {
   "cell_type": "code",
   "execution_count": 104,
   "id": "5d9aabb4-a65f-438c-adb3-7f0a8881b233",
   "metadata": {},
   "outputs": [
    {
     "data": {
      "text/html": [
       "<div>\n",
       "<style scoped>\n",
       "    .dataframe tbody tr th:only-of-type {\n",
       "        vertical-align: middle;\n",
       "    }\n",
       "\n",
       "    .dataframe tbody tr th {\n",
       "        vertical-align: top;\n",
       "    }\n",
       "\n",
       "    .dataframe thead th {\n",
       "        text-align: right;\n",
       "    }\n",
       "</style>\n",
       "<table border=\"1\" class=\"dataframe\">\n",
       "  <thead>\n",
       "    <tr style=\"text-align: right;\">\n",
       "      <th></th>\n",
       "      <th>Date</th>\n",
       "      <th>Year</th>\n",
       "      <th>Month_no</th>\n",
       "      <th>Month</th>\n",
       "      <th>Franchise</th>\n",
       "      <th>City</th>\n",
       "      <th>Product</th>\n",
       "      <th>Sales</th>\n",
       "      <th>Profit</th>\n",
       "      <th>Target Profit</th>\n",
       "      <th>Target Sales</th>\n",
       "      <th>Sales Target Status</th>\n",
       "    </tr>\n",
       "  </thead>\n",
       "  <tbody>\n",
       "    <tr>\n",
       "      <th>0</th>\n",
       "      <td>2021-01-01</td>\n",
       "      <td>2021</td>\n",
       "      <td>1</td>\n",
       "      <td>January</td>\n",
       "      <td>M1</td>\n",
       "      <td>Mumbai</td>\n",
       "      <td>Amaretto</td>\n",
       "      <td>219.0</td>\n",
       "      <td>94.0</td>\n",
       "      <td>100.0</td>\n",
       "      <td>220.0</td>\n",
       "      <td>Not Achieved</td>\n",
       "    </tr>\n",
       "    <tr>\n",
       "      <th>1</th>\n",
       "      <td>2021-02-01</td>\n",
       "      <td>2021</td>\n",
       "      <td>2</td>\n",
       "      <td>February</td>\n",
       "      <td>M1</td>\n",
       "      <td>Mumbai</td>\n",
       "      <td>Amaretto</td>\n",
       "      <td>140.0</td>\n",
       "      <td>34.0</td>\n",
       "      <td>50.0</td>\n",
       "      <td>140.0</td>\n",
       "      <td>Achieved</td>\n",
       "    </tr>\n",
       "    <tr>\n",
       "      <th>2</th>\n",
       "      <td>2021-03-01</td>\n",
       "      <td>2021</td>\n",
       "      <td>3</td>\n",
       "      <td>March</td>\n",
       "      <td>M1</td>\n",
       "      <td>Mumbai</td>\n",
       "      <td>Amaretto</td>\n",
       "      <td>145.0</td>\n",
       "      <td>-2.0</td>\n",
       "      <td>30.0</td>\n",
       "      <td>180.0</td>\n",
       "      <td>Not Achieved</td>\n",
       "    </tr>\n",
       "  </tbody>\n",
       "</table>\n",
       "</div>"
      ],
      "text/plain": [
       "        Date  Year  Month_no     Month Franchise    City   Product  Sales  \\\n",
       "0 2021-01-01  2021         1   January        M1  Mumbai  Amaretto  219.0   \n",
       "1 2021-02-01  2021         2  February        M1  Mumbai  Amaretto  140.0   \n",
       "2 2021-03-01  2021         3     March        M1  Mumbai  Amaretto  145.0   \n",
       "\n",
       "   Profit  Target Profit  Target Sales Sales Target Status  \n",
       "0    94.0          100.0         220.0        Not Achieved  \n",
       "1    34.0           50.0         140.0            Achieved  \n",
       "2    -2.0           30.0         180.0        Not Achieved  "
      ]
     },
     "execution_count": 104,
     "metadata": {},
     "output_type": "execute_result"
    }
   ],
   "source": [
    "df.Date = pd.to_datetime(df.Date, format = \"mixed\")\n",
    "df.insert(1, \"Year\", df.Date.dt.year)\n",
    "df.insert(2, \"Month_no\", df.Date.dt.month)\n",
    "df.insert(3, \"Month\", df.Date.dt.month_name())\n",
    "df.head(3)"
   ]
  },
  {
   "cell_type": "markdown",
   "id": "7c64a8aa-6520-450f-82d5-638f40ba6e55",
   "metadata": {},
   "source": [
    "#### Renaming column names"
   ]
  },
  {
   "cell_type": "code",
   "execution_count": null,
   "id": "56e8cdf0-ba37-4240-aec4-fae080246537",
   "metadata": {},
   "outputs": [],
   "source": [
    "# Rename all column headers\n",
    "df.columns = [col1, col2, col3, ......]  # len([]) = no of cols, and sequence must also be the same"
   ]
  },
  {
   "cell_type": "code",
   "execution_count": 108,
   "id": "0964f8bb-2a93-4e8c-9614-37b647c04fc5",
   "metadata": {},
   "outputs": [
    {
     "data": {
      "text/html": [
       "<div>\n",
       "<style scoped>\n",
       "    .dataframe tbody tr th:only-of-type {\n",
       "        vertical-align: middle;\n",
       "    }\n",
       "\n",
       "    .dataframe tbody tr th {\n",
       "        vertical-align: top;\n",
       "    }\n",
       "\n",
       "    .dataframe thead th {\n",
       "        text-align: right;\n",
       "    }\n",
       "</style>\n",
       "<table border=\"1\" class=\"dataframe\">\n",
       "  <thead>\n",
       "    <tr style=\"text-align: right;\">\n",
       "      <th></th>\n",
       "      <th>Date</th>\n",
       "      <th>Year</th>\n",
       "      <th>Month_NO</th>\n",
       "      <th>Month</th>\n",
       "      <th>Franchise</th>\n",
       "      <th>City</th>\n",
       "      <th>Product</th>\n",
       "      <th>Sales</th>\n",
       "      <th>Profit</th>\n",
       "      <th>Target Profit</th>\n",
       "      <th>Target Sales</th>\n",
       "      <th>Sales Target Status</th>\n",
       "    </tr>\n",
       "  </thead>\n",
       "  <tbody>\n",
       "    <tr>\n",
       "      <th>0</th>\n",
       "      <td>2021-01-01</td>\n",
       "      <td>2021</td>\n",
       "      <td>1</td>\n",
       "      <td>January</td>\n",
       "      <td>M1</td>\n",
       "      <td>Mumbai</td>\n",
       "      <td>Amaretto</td>\n",
       "      <td>219.0</td>\n",
       "      <td>94.0</td>\n",
       "      <td>100.0</td>\n",
       "      <td>220.0</td>\n",
       "      <td>Not Achieved</td>\n",
       "    </tr>\n",
       "  </tbody>\n",
       "</table>\n",
       "</div>"
      ],
      "text/plain": [
       "        Date  Year  Month_NO    Month Franchise    City   Product  Sales  \\\n",
       "0 2021-01-01  2021         1  January        M1  Mumbai  Amaretto  219.0   \n",
       "\n",
       "   Profit  Target Profit  Target Sales Sales Target Status  \n",
       "0    94.0          100.0         220.0        Not Achieved  "
      ]
     },
     "execution_count": 108,
     "metadata": {},
     "output_type": "execute_result"
    }
   ],
   "source": [
    "# using rename()\n",
    "df.rename({\"Month_no\" : \"Month_NO\"}, axis = 1).head(1)  # inplace = True for modifying original df"
   ]
  },
  {
   "cell_type": "markdown",
   "id": "77c0ade7-335d-4b82-8bde-f39e02e7a940",
   "metadata": {},
   "source": [
    "#### Replace Values"
   ]
  },
  {
   "cell_type": "markdown",
   "id": "f0362e30-397f-4dc9-ae3c-aa1c51457ac9",
   "metadata": {},
   "source": [
    "###### Ex. Replace city Mumbai with Bombay"
   ]
  },
  {
   "cell_type": "code",
   "execution_count": 118,
   "id": "88a88d47-44b4-4ef9-86b1-c1b2e250783d",
   "metadata": {},
   "outputs": [
    {
     "data": {
      "text/html": [
       "<div>\n",
       "<style scoped>\n",
       "    .dataframe tbody tr th:only-of-type {\n",
       "        vertical-align: middle;\n",
       "    }\n",
       "\n",
       "    .dataframe tbody tr th {\n",
       "        vertical-align: top;\n",
       "    }\n",
       "\n",
       "    .dataframe thead th {\n",
       "        text-align: right;\n",
       "    }\n",
       "</style>\n",
       "<table border=\"1\" class=\"dataframe\">\n",
       "  <thead>\n",
       "    <tr style=\"text-align: right;\">\n",
       "      <th></th>\n",
       "      <th>Date</th>\n",
       "      <th>Year</th>\n",
       "      <th>Month_no</th>\n",
       "      <th>Month</th>\n",
       "      <th>Franchise</th>\n",
       "      <th>City</th>\n",
       "      <th>Product</th>\n",
       "      <th>Sales</th>\n",
       "      <th>Profit</th>\n",
       "      <th>Target Profit</th>\n",
       "      <th>Target Sales</th>\n",
       "      <th>Sales Target Status</th>\n",
       "    </tr>\n",
       "  </thead>\n",
       "  <tbody>\n",
       "    <tr>\n",
       "      <th>0</th>\n",
       "      <td>2021-01-01</td>\n",
       "      <td>2021</td>\n",
       "      <td>1</td>\n",
       "      <td>January</td>\n",
       "      <td>M1</td>\n",
       "      <td>Bombay</td>\n",
       "      <td>Amaretto</td>\n",
       "      <td>219.0</td>\n",
       "      <td>94.0</td>\n",
       "      <td>100.0</td>\n",
       "      <td>220.0</td>\n",
       "      <td>Not Achieved</td>\n",
       "    </tr>\n",
       "    <tr>\n",
       "      <th>1</th>\n",
       "      <td>2021-02-01</td>\n",
       "      <td>2021</td>\n",
       "      <td>2</td>\n",
       "      <td>February</td>\n",
       "      <td>M1</td>\n",
       "      <td>Bombay</td>\n",
       "      <td>Amaretto</td>\n",
       "      <td>140.0</td>\n",
       "      <td>34.0</td>\n",
       "      <td>50.0</td>\n",
       "      <td>140.0</td>\n",
       "      <td>Achieved</td>\n",
       "    </tr>\n",
       "  </tbody>\n",
       "</table>\n",
       "</div>"
      ],
      "text/plain": [
       "        Date  Year  Month_no     Month Franchise    City   Product  Sales  \\\n",
       "0 2021-01-01  2021         1   January        M1  Bombay  Amaretto  219.0   \n",
       "1 2021-02-01  2021         2  February        M1  Bombay  Amaretto  140.0   \n",
       "\n",
       "   Profit  Target Profit  Target Sales Sales Target Status  \n",
       "0    94.0          100.0         220.0        Not Achieved  \n",
       "1    34.0           50.0         140.0            Achieved  "
      ]
     },
     "execution_count": 118,
     "metadata": {},
     "output_type": "execute_result"
    }
   ],
   "source": [
    "df.City.replace({\"Mumbai\" : \"Bombay\"}, inplace=True)\n",
    "df.head(2)"
   ]
  },
  {
   "cell_type": "markdown",
   "id": "27b5f840-7acf-4497-bb3d-2492a192ef6d",
   "metadata": {},
   "source": [
    "#### Sorting Dafatrame\n",
    "- df.sort_values(`ascending=True`, `inplace=False`, `na_position = {\"first\",\"last\"}`)\n",
    "- df.sort_index(`ascending=True`, `inplace=False`)"
   ]
  },
  {
   "cell_type": "code",
   "execution_count": null,
   "id": "ae934ba2-196a-4d06-a501-768e72ca7554",
   "metadata": {},
   "outputs": [],
   "source": [
    "df.sort_index()"
   ]
  },
  {
   "cell_type": "code",
   "execution_count": null,
   "id": "063c9a9f-ad8b-4011-90c0-814b5e7e4c44",
   "metadata": {},
   "outputs": [],
   "source": [
    "df.sort_values(\"Sales\", ascending=False)"
   ]
  },
  {
   "cell_type": "markdown",
   "id": "b6ff8e81-18cb-4a18-a57e-cc63e34f0188",
   "metadata": {},
   "source": [
    "#### Ranking Dataframe\n",
    "- df[col].rank(`ascending=False`, `method={\"average\",\"min\",\"dense\"}`, `na_option = {\"top\",\"bottom\"}`)"
   ]
  },
  {
   "cell_type": "code",
   "execution_count": 125,
   "id": "696a88d4-1e96-4ba6-8f32-9156e516b503",
   "metadata": {},
   "outputs": [
    {
     "data": {
      "text/plain": [
       "0       3072.0\n",
       "1       2166.5\n",
       "2       2255.5\n",
       "3        138.5\n",
       "4       1596.5\n",
       "         ...  \n",
       "4243    4215.0\n",
       "4244     699.0\n",
       "4245    3717.5\n",
       "4246    4210.0\n",
       "4247     188.0\n",
       "Name: Sales, Length: 4248, dtype: float64"
      ]
     },
     "execution_count": 125,
     "metadata": {},
     "output_type": "execute_result"
    }
   ],
   "source": [
    "df[\"Sales\"].rank()"
   ]
  },
  {
   "cell_type": "code",
   "execution_count": 129,
   "id": "88aa36fe-bdd0-4259-8ba0-08fb9a22dad3",
   "metadata": {},
   "outputs": [
    {
     "data": {
      "text/plain": [
       "0    1.0\n",
       "1    2.0\n",
       "2    2.0\n",
       "3    3.0\n",
       "4    3.0\n",
       "5    3.0\n",
       "6    4.0\n",
       "dtype: float64"
      ]
     },
     "execution_count": 129,
     "metadata": {},
     "output_type": "execute_result"
    }
   ],
   "source": [
    "pd.Series([10, 9, 9, 8, 8, 8, 7]).rank(ascending=False, method=\"dense\")"
   ]
  },
  {
   "cell_type": "markdown",
   "id": "de5843c7-354b-485a-8eb1-483bf1e67b1c",
   "metadata": {},
   "source": [
    "#### Appraoch 2 - Final Code "
   ]
  },
  {
   "cell_type": "code",
   "execution_count": 187,
   "id": "aefb2ccb-ffb6-4c6e-b977-f9934e174b42",
   "metadata": {},
   "outputs": [
    {
     "data": {
      "text/html": [
       "<div>\n",
       "<style scoped>\n",
       "    .dataframe tbody tr th:only-of-type {\n",
       "        vertical-align: middle;\n",
       "    }\n",
       "\n",
       "    .dataframe tbody tr th {\n",
       "        vertical-align: top;\n",
       "    }\n",
       "\n",
       "    .dataframe thead th {\n",
       "        text-align: right;\n",
       "    }\n",
       "</style>\n",
       "<table border=\"1\" class=\"dataframe\">\n",
       "  <thead>\n",
       "    <tr style=\"text-align: right;\">\n",
       "      <th></th>\n",
       "      <th>Date</th>\n",
       "      <th>Year</th>\n",
       "      <th>Month_no</th>\n",
       "      <th>Month</th>\n",
       "      <th>Franchise</th>\n",
       "      <th>City</th>\n",
       "      <th>Product</th>\n",
       "      <th>Sales</th>\n",
       "      <th>Profit</th>\n",
       "      <th>Target Profit</th>\n",
       "      <th>Target Sales</th>\n",
       "      <th>Sales Target Status</th>\n",
       "    </tr>\n",
       "  </thead>\n",
       "  <tbody>\n",
       "    <tr>\n",
       "      <th>0</th>\n",
       "      <td>2021-01-01</td>\n",
       "      <td>2021</td>\n",
       "      <td>1</td>\n",
       "      <td>January</td>\n",
       "      <td>M1</td>\n",
       "      <td>Mumbai</td>\n",
       "      <td>Amaretto</td>\n",
       "      <td>219.0</td>\n",
       "      <td>94.0</td>\n",
       "      <td>100.0</td>\n",
       "      <td>220.0</td>\n",
       "      <td>Not Achieved</td>\n",
       "    </tr>\n",
       "    <tr>\n",
       "      <th>1</th>\n",
       "      <td>2021-02-01</td>\n",
       "      <td>2021</td>\n",
       "      <td>2</td>\n",
       "      <td>February</td>\n",
       "      <td>M1</td>\n",
       "      <td>Mumbai</td>\n",
       "      <td>Amaretto</td>\n",
       "      <td>140.0</td>\n",
       "      <td>34.0</td>\n",
       "      <td>50.0</td>\n",
       "      <td>140.0</td>\n",
       "      <td>Achieved</td>\n",
       "    </tr>\n",
       "    <tr>\n",
       "      <th>2</th>\n",
       "      <td>2021-03-01</td>\n",
       "      <td>2021</td>\n",
       "      <td>3</td>\n",
       "      <td>March</td>\n",
       "      <td>M1</td>\n",
       "      <td>Mumbai</td>\n",
       "      <td>Amaretto</td>\n",
       "      <td>145.0</td>\n",
       "      <td>-2.0</td>\n",
       "      <td>30.0</td>\n",
       "      <td>180.0</td>\n",
       "      <td>Not Achieved</td>\n",
       "    </tr>\n",
       "    <tr>\n",
       "      <th>3</th>\n",
       "      <td>2021-04-01</td>\n",
       "      <td>2021</td>\n",
       "      <td>4</td>\n",
       "      <td>April</td>\n",
       "      <td>M1</td>\n",
       "      <td>Mumbai</td>\n",
       "      <td>Amaretto</td>\n",
       "      <td>45.0</td>\n",
       "      <td>11.0</td>\n",
       "      <td>20.0</td>\n",
       "      <td>40.0</td>\n",
       "      <td>Achieved</td>\n",
       "    </tr>\n",
       "    <tr>\n",
       "      <th>4</th>\n",
       "      <td>2021-05-01</td>\n",
       "      <td>2021</td>\n",
       "      <td>5</td>\n",
       "      <td>May</td>\n",
       "      <td>M1</td>\n",
       "      <td>Mumbai</td>\n",
       "      <td>Amaretto</td>\n",
       "      <td>120.0</td>\n",
       "      <td>13.0</td>\n",
       "      <td>30.0</td>\n",
       "      <td>120.0</td>\n",
       "      <td>Achieved</td>\n",
       "    </tr>\n",
       "  </tbody>\n",
       "</table>\n",
       "</div>"
      ],
      "text/plain": [
       "        Date  Year  Month_no     Month Franchise    City   Product  Sales  \\\n",
       "0 2021-01-01  2021         1   January        M1  Mumbai  Amaretto  219.0   \n",
       "1 2021-02-01  2021         2  February        M1  Mumbai  Amaretto  140.0   \n",
       "2 2021-03-01  2021         3     March        M1  Mumbai  Amaretto  145.0   \n",
       "3 2021-04-01  2021         4     April        M1  Mumbai  Amaretto   45.0   \n",
       "4 2021-05-01  2021         5       May        M1  Mumbai  Amaretto  120.0   \n",
       "\n",
       "   Profit  Target Profit  Target Sales Sales Target Status  \n",
       "0    94.0          100.0         220.0        Not Achieved  \n",
       "1    34.0           50.0         140.0            Achieved  \n",
       "2    -2.0           30.0         180.0        Not Achieved  \n",
       "3    11.0           20.0          40.0            Achieved  \n",
       "4    13.0           30.0         120.0            Achieved  "
      ]
     },
     "execution_count": 187,
     "metadata": {},
     "output_type": "execute_result"
    }
   ],
   "source": [
    "import numpy as np\n",
    "import pandas as pd\n",
    "import matplotlib.pyplot as plt\n",
    "import seaborn as sns\n",
    "\n",
    "plt.rcParams[\"figure.figsize\"] = (4, 3)\n",
    "plt.rcParams['xtick.labelsize'] = 6 # Default x-tick label size \n",
    "plt.rcParams['ytick.labelsize'] = 6\n",
    "plt.rcParams['axes.titlesize'] = 8\n",
    "\n",
    "df = pd.read_csv(r\"./datasets/coffee_sales.csv\", header=3)\n",
    "df.dropna(axis = 1, how = \"all\", inplace=True)  # drops eniter null col\n",
    "df.dropna(axis = 0, how = \"all\", inplace=True)  # drops entire null row\n",
    "df.fillna({\"Target Profit\" : 0}, inplace=True)  # replace null value in target col with 0\n",
    "\n",
    "# converting numeric column to float\n",
    "trans_obj = str.maketrans(\"\", \"\", \"$,\")\n",
    "df.Sales = df.Sales.str.translate(trans_obj).astype(float)\n",
    "df.Profit = df.Profit.str.translate(trans_obj).astype(float)\n",
    "df[\"Target Profit\"] = df[\"Target Profit\"].str.translate(trans_obj).astype(float)\n",
    "df[\"Target Sales\"] = df[\"Target Sales\"].str.translate(trans_obj).astype(float)\n",
    "df.Date = pd.to_datetime(df.Date, format = \"mixed\")\n",
    "df.insert(1, \"Year\", df.Date.dt.year)\n",
    "df.insert(2, \"Month_no\", df.Date.dt.month)\n",
    "df.insert(3, \"Month\", df.Date.dt.month_name())\n",
    "\n",
    "df[\"Sales Target Status\"] = np.where(df.Sales >= df[\"Target Sales\"], \"Achieved\", \"Not Achieved\")\n",
    "\n",
    "\n",
    "df.head()"
   ]
  },
  {
   "cell_type": "markdown",
   "id": "d0472684-4f69-4374-9669-718d7f368c26",
   "metadata": {},
   "source": [
    "### Analysing Data\n",
    "- Type of variables -\n",
    "    - Numeric Column\n",
    "    - Categorial Column"
   ]
  },
  {
   "cell_type": "markdown",
   "id": "c0d582df-c4d4-4262-bef9-904ebd5d76c3",
   "metadata": {},
   "source": [
    "#### 1. Univariate Analysis"
   ]
  },
  {
   "cell_type": "markdown",
   "id": "834a225d-80f4-44f9-ba86-5161a1333501",
   "metadata": {},
   "source": [
    "###### Ex. How many products are there in the dataset?"
   ]
  },
  {
   "cell_type": "code",
   "execution_count": 142,
   "id": "256e8fee-ce17-4a9e-bfdb-063d2314e9bd",
   "metadata": {},
   "outputs": [
    {
     "name": "stdout",
     "output_type": "stream",
     "text": [
      "['Amaretto' 'Caffe Latte' 'Caffe Mocha' 'Chamomile' 'Colombian'\n",
      " 'Darjeeling' 'Decaf Espresso' 'Decaf Irish Cream' 'Earl Grey' 'Green Tea'\n",
      " 'Lemon Tea' 'Mint Tea' 'Regular Espresso']\n"
     ]
    }
   ],
   "source": [
    "print(df.Product.unique())"
   ]
  },
  {
   "cell_type": "code",
   "execution_count": 140,
   "id": "b335eced-c615-4957-a07f-d4fcef54bafa",
   "metadata": {},
   "outputs": [
    {
     "data": {
      "text/plain": [
       "13"
      ]
     },
     "execution_count": 140,
     "metadata": {},
     "output_type": "execute_result"
    }
   ],
   "source": [
    "df.Product.unique().size"
   ]
  },
  {
   "cell_type": "code",
   "execution_count": 143,
   "id": "50fcc5fd-7cd1-4198-9c70-d394a91a1e05",
   "metadata": {},
   "outputs": [
    {
     "data": {
      "text/plain": [
       "array([2021, 2022, 2023, 2024, 2025, 2026], dtype=int32)"
      ]
     },
     "execution_count": 143,
     "metadata": {},
     "output_type": "execute_result"
    }
   ],
   "source": [
    "df.Year.unique() # The data ranges from year 2021 to 2026"
   ]
  },
  {
   "cell_type": "code",
   "execution_count": 170,
   "id": "3af1fefb-e215-449f-b477-b392c874f339",
   "metadata": {},
   "outputs": [
    {
     "data": {
      "text/plain": [
       "Sales Target Status\n",
       "Achieved        0.76\n",
       "Not Achieved    0.24\n",
       "Name: proportion, dtype: float64"
      ]
     },
     "execution_count": 170,
     "metadata": {},
     "output_type": "execute_result"
    }
   ],
   "source": [
    "df[\"Sales Target Status\"].value_counts(normalize=True).round(2)"
   ]
  },
  {
   "cell_type": "code",
   "execution_count": 174,
   "id": "d2beabf6-e086-4fce-a485-41899078f7f1",
   "metadata": {},
   "outputs": [
    {
     "data": {
      "text/plain": [
       "<Axes: xlabel='Sales Target Status'>"
      ]
     },
     "execution_count": 174,
     "metadata": {},
     "output_type": "execute_result"
    },
    {
     "data": {
      "image/png": "[encoded data removed]",
      "text/plain": [
       "<Figure size 400x300 with 1 Axes>"
      ]
     },
     "metadata": {},
     "output_type": "display_data"
    }
   ],
   "source": [
    "(np.round(df[\"Sales Target Status\"].value_counts(normalize=True), 2)*100).plot(kind = \"bar\")"
   ]
  },
  {
   "cell_type": "code",
   "execution_count": null,
   "id": "8e23b340-5f5f-4b8c-8be9-67b789e7d621",
   "metadata": {},
   "outputs": [],
   "source": []
  },
  {
   "cell_type": "code",
   "execution_count": null,
   "id": "a130b679-fa60-4067-94df-365321d6bf74",
   "metadata": {},
   "outputs": [],
   "source": []
  },
  {
   "cell_type": "code",
   "execution_count": null,
   "id": "af37ebb5-14d5-4559-a124-0d2b0b50fc2e",
   "metadata": {},
   "outputs": [],
   "source": []
  },
  {
   "cell_type": "code",
   "execution_count": null,
   "id": "7eeb91c7-bd54-40ca-ae24-b0560d2f4cb7",
   "metadata": {},
   "outputs": [],
   "source": []
  },
  {
   "cell_type": "markdown",
   "id": "8f85b55d-fe77-41bf-ba77-b9a28960e01c",
   "metadata": {},
   "source": [
    "#### 2. Bi-Variate Analysis"
   ]
  },
  {
   "cell_type": "markdown",
   "id": "17af3a38-bae4-4431-8a45-e587621beda4",
   "metadata": {},
   "source": [
    "#### a. Numeric-Categorial"
   ]
  },
  {
   "cell_type": "markdown",
   "id": "fbd10d91-d8a7-4e23-b1f3-decabf21e0c8",
   "metadata": {},
   "source": [
    "`df.groupby(by=None, as_index=True, sort=True, dropna=True)`"
   ]
  },
  {
   "cell_type": "markdown",
   "id": "c2cfe4ee-d125-4c6e-84d5-4ea1e43c59ad",
   "metadata": {},
   "source": [
    "###### Ex. Create a table representing total sales by product"
   ]
  },
  {
   "cell_type": "code",
   "execution_count": null,
   "id": "820ead0d-e2eb-4676-9bfe-f48388021ff0",
   "metadata": {},
   "outputs": [],
   "source": [
    "df.groupby(\"Product\")[\"Sales\"].sum()"
   ]
  },
  {
   "cell_type": "code",
   "execution_count": null,
   "id": "33e70ddd-09ea-4183-b7a4-737cd483ae92",
   "metadata": {},
   "outputs": [],
   "source": [
    "df.groupby(\"Product\")[\"Sales\"].sum().plot(kind = \"bar\", figsize = (5, 2)) # using pandas"
   ]
  },
  {
   "cell_type": "code",
   "execution_count": null,
   "id": "9b3c0fbd-3f2b-4c49-9cf0-a3c196c00ec1",
   "metadata": {},
   "outputs": [],
   "source": [
    "plt.figure(figsize = (12, 2))\n",
    "sns.barplot(data = df, x = \"Product\", y = \"Sales\", estimator=\"sum\") # using seaborn"
   ]
  },
  {
   "cell_type": "markdown",
   "id": "2e40cbd5-5075-4cd6-ab08-5b5d8a4eead5",
   "metadata": {},
   "source": [
    "###### Ex. Create a table representing total sales and profit by product"
   ]
  },
  {
   "cell_type": "code",
   "execution_count": null,
   "id": "eca56c4f-93af-4fa3-b10a-d60d260b1753",
   "metadata": {},
   "outputs": [],
   "source": [
    "df.groupby(\"Product\")[[\"Sales\", \"Profit\"]].sum()"
   ]
  },
  {
   "cell_type": "code",
   "execution_count": null,
   "id": "ce927745-cba6-4f84-a0ff-8a145e771e25",
   "metadata": {},
   "outputs": [],
   "source": [
    "df.groupby(\"Product\")[[\"Sales\", \"Profit\"]].sum().reset_index()"
   ]
  },
  {
   "cell_type": "code",
   "execution_count": null,
   "id": "2ea388dc-334e-450c-bc1a-b479d2b93a5c",
   "metadata": {},
   "outputs": [],
   "source": [
    "df.groupby(\"Product\")[[\"Sales\", \"Profit\"]].sum().plot(kind = \"bar\", figsize = (5, 2))"
   ]
  },
  {
   "cell_type": "markdown",
   "id": "82eac4ae-2a10-4ce7-9536-7bb8df0784d4",
   "metadata": {},
   "source": [
    "###### Ex. Create a table representing total sales and avg profit by product"
   ]
  },
  {
   "cell_type": "code",
   "execution_count": 183,
   "id": "64ddc461-1175-4690-8402-cc9682963087",
   "metadata": {},
   "outputs": [
    {
     "data": {
      "text/html": [
       "<div>\n",
       "<style scoped>\n",
       "    .dataframe tbody tr th:only-of-type {\n",
       "        vertical-align: middle;\n",
       "    }\n",
       "\n",
       "    .dataframe tbody tr th {\n",
       "        vertical-align: top;\n",
       "    }\n",
       "\n",
       "    .dataframe thead th {\n",
       "        text-align: right;\n",
       "    }\n",
       "</style>\n",
       "<table border=\"1\" class=\"dataframe\">\n",
       "  <thead>\n",
       "    <tr style=\"text-align: right;\">\n",
       "      <th></th>\n",
       "      <th>Sales</th>\n",
       "      <th>Profit</th>\n",
       "    </tr>\n",
       "    <tr>\n",
       "      <th>Product</th>\n",
       "      <th></th>\n",
       "      <th></th>\n",
       "    </tr>\n",
       "  </thead>\n",
       "  <tbody>\n",
       "    <tr>\n",
       "      <th>Amaretto</th>\n",
       "      <td>30425.0</td>\n",
       "      <td>27.4</td>\n",
       "    </tr>\n",
       "    <tr>\n",
       "      <th>Caffe Latte</th>\n",
       "      <td>35899.0</td>\n",
       "      <td>52.7</td>\n",
       "    </tr>\n",
       "    <tr>\n",
       "      <th>Caffe Mocha</th>\n",
       "      <td>76468.0</td>\n",
       "      <td>36.0</td>\n",
       "    </tr>\n",
       "    <tr>\n",
       "      <th>Chamomile</th>\n",
       "      <td>70894.0</td>\n",
       "      <td>70.4</td>\n",
       "    </tr>\n",
       "    <tr>\n",
       "      <th>Colombian</th>\n",
       "      <td>116547.0</td>\n",
       "      <td>116.2</td>\n",
       "    </tr>\n",
       "    <tr>\n",
       "      <th>Darjeeling</th>\n",
       "      <td>68788.0</td>\n",
       "      <td>75.4</td>\n",
       "    </tr>\n",
       "    <tr>\n",
       "      <th>Decaf Espresso</th>\n",
       "      <td>82442.0</td>\n",
       "      <td>70.8</td>\n",
       "    </tr>\n",
       "    <tr>\n",
       "      <th>Decaf Irish Cream</th>\n",
       "      <td>58456.0</td>\n",
       "      <td>36.2</td>\n",
       "    </tr>\n",
       "    <tr>\n",
       "      <th>Earl Grey</th>\n",
       "      <td>80448.0</td>\n",
       "      <td>80.0</td>\n",
       "    </tr>\n",
       "    <tr>\n",
       "      <th>Green Tea</th>\n",
       "      <td>48977.0</td>\n",
       "      <td>20.2</td>\n",
       "    </tr>\n",
       "    <tr>\n",
       "      <th>Lemon Tea</th>\n",
       "      <td>86042.0</td>\n",
       "      <td>60.6</td>\n",
       "    </tr>\n",
       "    <tr>\n",
       "      <th>Mint Tea</th>\n",
       "      <td>40394.0</td>\n",
       "      <td>37.2</td>\n",
       "    </tr>\n",
       "    <tr>\n",
       "      <th>Regular Espresso</th>\n",
       "      <td>24031.0</td>\n",
       "      <td>139.8</td>\n",
       "    </tr>\n",
       "  </tbody>\n",
       "</table>\n",
       "</div>"
      ],
      "text/plain": [
       "                      Sales  Profit\n",
       "Product                            \n",
       "Amaretto            30425.0    27.4\n",
       "Caffe Latte         35899.0    52.7\n",
       "Caffe Mocha         76468.0    36.0\n",
       "Chamomile           70894.0    70.4\n",
       "Colombian          116547.0   116.2\n",
       "Darjeeling          68788.0    75.4\n",
       "Decaf Espresso      82442.0    70.8\n",
       "Decaf Irish Cream   58456.0    36.2\n",
       "Earl Grey           80448.0    80.0\n",
       "Green Tea           48977.0    20.2\n",
       "Lemon Tea           86042.0    60.6\n",
       "Mint Tea            40394.0    37.2\n",
       "Regular Espresso    24031.0   139.8"
      ]
     },
     "execution_count": 183,
     "metadata": {},
     "output_type": "execute_result"
    }
   ],
   "source": [
    "df.groupby(\"Product\").agg({\"Sales\" : \"sum\", \"Profit\" : \"mean\"}).round(1)"
   ]
  },
  {
   "cell_type": "code",
   "execution_count": 184,
   "id": "758a4bd7-89f9-462c-8ccd-04cc82eee7e8",
   "metadata": {},
   "outputs": [
    {
     "data": {
      "image/png": "[encoded data removed]",
      "text/plain": [
       "<Figure size 500x200 with 2 Axes>"
      ]
     },
     "metadata": {},
     "output_type": "display_data"
    }
   ],
   "source": [
    "_ = df.groupby(\"Product\").agg({\"Sales\" : \"sum\", \"Profit\" : \"mean\"}).round(1).plot(kind = \"bar\", subplots = True, figsize = (5, 2))"
   ]
  },
  {
   "cell_type": "code",
   "execution_count": null,
   "id": "ac931e1d-ba06-4655-9e52-0d998c59e4fd",
   "metadata": {},
   "outputs": [],
   "source": [
    "data = df.groupby(\"Product\").agg({\"Sales\" : [\"sum\", \"mean\"], \"Profit\" :[\"sum\", \"mean\"]}).round(1).reset_index()\n",
    "data.columns = [\"Product\", \"Total Sales\", \"Avg Sales\", \"Total Profit\", \"Avg Profit\"]\n",
    "data"
   ]
  },
  {
   "cell_type": "code",
   "execution_count": null,
   "id": "34ca2bd2-2988-40b5-9ec2-feaed911dac3",
   "metadata": {},
   "outputs": [],
   "source": []
  },
  {
   "cell_type": "markdown",
   "id": "4a2188c5-9c04-4f1d-be4c-49020deaa8bb",
   "metadata": {},
   "source": [
    "###### Ex. Create a table representing total sales over years and month"
   ]
  },
  {
   "cell_type": "code",
   "execution_count": null,
   "id": "90f9a7cf-fdf4-425c-9f54-628e89ef606e",
   "metadata": {},
   "outputs": [],
   "source": []
  },
  {
   "cell_type": "code",
   "execution_count": null,
   "id": "ae0832b3-011c-4ef5-bba6-85e4a66c9271",
   "metadata": {},
   "outputs": [],
   "source": []
  },
  {
   "cell_type": "code",
   "execution_count": null,
   "id": "a98b1867-911c-438c-83b6-168d631032b6",
   "metadata": {},
   "outputs": [],
   "source": []
  },
  {
   "cell_type": "code",
   "execution_count": null,
   "id": "a29a0198-5543-444c-a07e-67429c55a827",
   "metadata": {},
   "outputs": [],
   "source": []
  },
  {
   "cell_type": "code",
   "execution_count": null,
   "id": "0d0ecc70-64dd-4ba4-9926-b0377a02a2a1",
   "metadata": {},
   "outputs": [],
   "source": []
  },
  {
   "cell_type": "code",
   "execution_count": null,
   "id": "a649ec3c-5d41-4d4b-b7ab-44104bfeb366",
   "metadata": {},
   "outputs": [],
   "source": []
  },
  {
   "cell_type": "code",
   "execution_count": null,
   "id": "6f5ca5fe-4f77-490d-96d3-a81193e48e22",
   "metadata": {},
   "outputs": [],
   "source": []
  },
  {
   "cell_type": "code",
   "execution_count": null,
   "id": "caf7d576-2a70-46f5-a3ca-de46c8454458",
   "metadata": {},
   "outputs": [],
   "source": []
  },
  {
   "cell_type": "code",
   "execution_count": null,
   "id": "9c732baa-c4f2-4b21-90fa-0ab40c92cd19",
   "metadata": {},
   "outputs": [],
   "source": []
  }
 ],
 "metadata": {
  "kernelspec": {
   "display_name": "Python 3 (ipykernel)",
   "language": "python",
   "name": "python3"
  },
  "language_info": {
   "codemirror_mode": {
    "name": "ipython",
    "version": 3
   },
   "file_extension": ".py",
   "mimetype": "text/x-python",
   "name": "python",
   "nbconvert_exporter": "python",
   "pygments_lexer": "ipython3",
   "version": "3.12.4"
  }
 },
 "nbformat": 4,
 "nbformat_minor": 5
}
